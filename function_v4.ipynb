{
 "cells": [
  {
   "cell_type": "code",
   "execution_count": 3,
   "metadata": {
    "collapsed": true
   },
   "outputs": [
    {
     "name": "stdout",
     "output_type": "stream",
     "text": [
      "Collecting adversarial-robustness-toolbox\n",
      "  Using cached https://files.pythonhosted.org/packages/31/94/aabfafdf4ce5b0995a8a49765255886a798f663b4ee0b63e24b7e2c33b69/Adversarial_Robustness_Toolbox-0.3.0-py3-none-any.whl\n",
      "Requirement already satisfied: h5py in /usr/local/lib/python3.6/site-packages (from adversarial-robustness-toolbox) (2.8.0)\n",
      "Requirement already satisfied: keras in /usr/local/lib/python3.6/site-packages (from adversarial-robustness-toolbox) (2.2.2)\n",
      "Requirement already satisfied: tensorflow in /usr/local/lib/python3.6/site-packages (from adversarial-robustness-toolbox) (1.6.0)\n",
      "Requirement already satisfied: six in /usr/local/lib/python3.6/site-packages (from adversarial-robustness-toolbox) (1.11.0)\n",
      "Requirement already satisfied: scikit-learn in /usr/local/lib/python3.6/site-packages (from adversarial-robustness-toolbox) (0.19.1)\n",
      "Requirement already satisfied: scipy in /usr/local/lib/python3.6/site-packages (from adversarial-robustness-toolbox) (1.0.1)\n",
      "Requirement already satisfied: numpy in /usr/local/lib/python3.6/site-packages (from adversarial-robustness-toolbox) (1.14.3)\n",
      "Requirement already satisfied: setuptools in /usr/local/lib/python3.6/site-packages (from adversarial-robustness-toolbox) (39.0.1)\n",
      "Requirement already satisfied: keras-applications==1.0.4 in /usr/local/lib/python3.6/site-packages (from keras->adversarial-robustness-toolbox) (1.0.4)\n",
      "Requirement already satisfied: pyyaml in /usr/local/lib/python3.6/site-packages (from keras->adversarial-robustness-toolbox) (3.12)\n",
      "Requirement already satisfied: keras-preprocessing==1.0.2 in /usr/local/lib/python3.6/site-packages (from keras->adversarial-robustness-toolbox) (1.0.2)\n",
      "Requirement already satisfied: wheel>=0.26 in /usr/local/lib/python3.6/site-packages (from tensorflow->adversarial-robustness-toolbox) (0.30.0)\n",
      "Requirement already satisfied: termcolor>=1.1.0 in /usr/local/lib/python3.6/site-packages (from tensorflow->adversarial-robustness-toolbox) (1.1.0)\n",
      "Requirement already satisfied: protobuf>=3.4.0 in /usr/local/lib/python3.6/site-packages (from tensorflow->adversarial-robustness-toolbox) (3.5.2)\n",
      "Requirement already satisfied: gast>=0.2.0 in /usr/local/lib/python3.6/site-packages (from tensorflow->adversarial-robustness-toolbox) (0.2.0)\n",
      "Requirement already satisfied: tensorboard<1.7.0,>=1.6.0 in /usr/local/lib/python3.6/site-packages (from tensorflow->adversarial-robustness-toolbox) (1.6.0)\n",
      "Requirement already satisfied: astor>=0.6.0 in /usr/local/lib/python3.6/site-packages (from tensorflow->adversarial-robustness-toolbox) (0.6.2)\n",
      "Requirement already satisfied: absl-py>=0.1.6 in /usr/local/lib/python3.6/site-packages (from tensorflow->adversarial-robustness-toolbox) (0.1.11)\n",
      "Requirement already satisfied: grpcio>=1.8.6 in /usr/local/lib/python3.6/site-packages (from tensorflow->adversarial-robustness-toolbox) (1.10.0)\n",
      "Collecting bleach==1.5.0 (from tensorboard<1.7.0,>=1.6.0->tensorflow->adversarial-robustness-toolbox)\n",
      "  Downloading https://files.pythonhosted.org/packages/33/70/86c5fec937ea4964184d4d6c4f0b9551564f821e1c3575907639036d9b90/bleach-1.5.0-py2.py3-none-any.whl\n",
      "Collecting html5lib==0.9999999 (from tensorboard<1.7.0,>=1.6.0->tensorflow->adversarial-robustness-toolbox)\n",
      "\u001b[?25l  Downloading https://files.pythonhosted.org/packages/ae/ae/bcb60402c60932b32dfaf19bb53870b29eda2cd17551ba5639219fb5ebf9/html5lib-0.9999999.tar.gz (889kB)\n",
      "\u001b[K    100% |████████████████████████████████| 890kB 10.7MB/s ta 0:00:01\n",
      "\u001b[?25hRequirement already satisfied: werkzeug>=0.11.10 in /usr/local/lib/python3.6/site-packages (from tensorboard<1.7.0,>=1.6.0->tensorflow->adversarial-robustness-toolbox) (0.12.1)\n",
      "Requirement already satisfied: markdown>=2.6.8 in /usr/local/lib/python3.6/site-packages (from tensorboard<1.7.0,>=1.6.0->tensorflow->adversarial-robustness-toolbox) (2.6.11)\n",
      "Building wheels for collected packages: html5lib\n",
      "  Running setup.py bdist_wheel for html5lib ... \u001b[?25ldone\n",
      "\u001b[?25h  Stored in directory: /Users/kev/Library/Caches/pip/wheels/50/ae/f9/d2b189788efcf61d1ee0e36045476735c838898eef1cad6e29\n",
      "Successfully built html5lib\n",
      "Installing collected packages: adversarial-robustness-toolbox, html5lib, bleach\n",
      "  Found existing installation: html5lib 1.0.1\n",
      "    Uninstalling html5lib-1.0.1:\n",
      "      Successfully uninstalled html5lib-1.0.1\n",
      "  Found existing installation: bleach 2.1.3\n",
      "    Uninstalling bleach-2.1.3:\n",
      "      Successfully uninstalled bleach-2.1.3\n",
      "Successfully installed adversarial-robustness-toolbox-0.3.0 bleach-1.5.0 html5lib-0.9999999\n"
     ]
    }
   ],
   "source": [
    "!pip install adversarial-robustness-toolbox"
   ]
  },
  {
   "cell_type": "code",
   "execution_count": 68,
   "metadata": {},
   "outputs": [],
   "source": [
    "%matplotlib inline \n",
    "\n",
    "from __future__ import absolute_import, division, print_function, unicode_literals\n",
    "from os.path import abspath\n",
    "import time\n",
    "import sys\n",
    "sys.path.append(abspath('.'))\n",
    "\n",
    "import numpy as np\n",
    "import pandas as pd\n",
    "import matplotlib.pyplot as plt\n",
    "\n",
    "from keras.models import Sequential\n",
    "from keras.layers import Dense\n",
    "from art.classifiers import KerasClassifier\n",
    "\n",
    "import art\n",
    "from art.attacks import DeepFool, BasicIterativeMethod, FastGradientMethod, SaliencyMapMethod, CarliniL2Method, NewtonFool, UniversalPerturbation\n",
    "from art.defences import SpatialSmoothing, FeatureSqueezing, GaussianAugmentation, LabelSmoothing\n",
    "from art.utils import load_mnist_raw, preprocess, random_targets"
   ]
  },
  {
   "cell_type": "markdown",
   "metadata": {},
   "source": [
    "## Helper Methods"
   ]
  },
  {
   "cell_type": "code",
   "execution_count": 115,
   "metadata": {},
   "outputs": [],
   "source": [
    "def create_nn(min_, max_):\n",
    "    \"\"\" Create a simple 2 hidden layer 64 node neural net. \"\"\"\n",
    "    model = Sequential()\n",
    "    model.add(Dense(64, input_dim=784, activation='relu'))\n",
    "    model.add(Dense(64, activation='relu'))\n",
    "    model.add(Dense(10, activation='softmax'))\n",
    "    model.compile(loss='mse', optimizer='adam', metrics=['accuracy'])\n",
    "    classifier = KerasClassifier((min_, max_), model=model)\n",
    "    return classifier"
   ]
  },
  {
   "cell_type": "code",
   "execution_count": 117,
   "metadata": {},
   "outputs": [],
   "source": [
    "def extract_num(matrix, i):\n",
    "    return matrix[i].reshape(28,28)"
   ]
  },
  {
   "cell_type": "code",
   "execution_count": 137,
   "metadata": {},
   "outputs": [],
   "source": [
    "def plot(matrix, i, title=None):\n",
    "    img = extract_num(matrix, i)\n",
    "    plt.imshow(img, interpolation='nearest')\n",
    "    if title:\n",
    "        plt.title(title, fontsize=32)"
   ]
  },
  {
   "cell_type": "code",
   "execution_count": 29,
   "metadata": {},
   "outputs": [],
   "source": [
    "def evaluate(x_train, x_test, y_train, y_test, x_train_adv, x_test_adv, y_train_adv, y_test_adv, classifier, file):\n",
    "    preds = np.argmax(classifier.predict(x_train), axis=1)\n",
    "    acc = np.sum(preds == np.argmax(y_train, axis=1)) / y_train.shape[0]\n",
    "    print(\"TRAIN: %.2f%% \\n\" % (acc * 100))\n",
    "    file.write(\"  TRAIN: %.2f%% \\n\" % (acc * 100))\n",
    "    \n",
    "    preds = np.argmax(classifier.predict(x_train_adv), axis=1)\n",
    "    acc = np.sum(preds == np.argmax(y_train_adv, axis=1)) / y_train_adv.shape[0]\n",
    "    print(\"TRAIN-ADVERSARY: %.2f%% \\n\" % (acc * 100))\n",
    "    file.write(\"  TRAIN-ADVERSARY: %.2f%% \\n\" % (acc * 100))\n",
    "    \n",
    "    preds = np.argmax(classifier.predict(x_test), axis=1)\n",
    "    acc = np.sum(preds == np.argmax(y_test, axis=1)) / y_test.shape[0]\n",
    "    print(\"TEST: %.2f%% \\n\" % (acc * 100))\n",
    "    file.write(\"  TEST: %.2f%% \\n\" % (acc * 100))\n",
    "    \n",
    "    preds = np.argmax(classifier.predict(x_test_adv), axis=1)\n",
    "    acc = np.sum(preds == np.argmax(y_test_adv, axis=1)) / y_test_adv.shape[0]\n",
    "    print(\"TEST-ADVERSARY: %.2f%% \\n\" % (acc * 100))\n",
    "    file.write(\"  TEST-ADVERSARY: %.2f%% \\n\" % (acc * 100))"
   ]
  },
  {
   "cell_type": "markdown",
   "metadata": {},
   "source": [
    "### Attack Functions"
   ]
  },
  {
   "cell_type": "code",
   "execution_count": 30,
   "metadata": {},
   "outputs": [],
   "source": [
    "def atk_DeepFool(x_train, x_test, y_train, y_test, classifier, file):\n",
    "    #print('Create DeepFool attack \\n')\n",
    "    adv_crafter = DeepFool(classifier, max_iter=15)\n",
    "    x_train_adv = adv_crafter.generate(x_train)\n",
    "    x_test_adv = adv_crafter.generate(x_test)\n",
    "    \n",
    "    print(\"After DeepFool Attack \\n\")\n",
    "    file.write(\"==== DeepFool Attack==== \\n\")\n",
    "    evaluate(x_train, x_test, y_train, y_test, x_train_adv, x_test_adv, y_train, y_test, classifier, file)\n",
    "    return x_test_adv, x_train_adv"
   ]
  },
  {
   "cell_type": "code",
   "execution_count": 31,
   "metadata": {},
   "outputs": [],
   "source": [
    "def atk_BasicIterative(x_train, x_test, y_train, y_test, classifier, file):\n",
    "    #print('Create BasicIterativeMethod attack \\n')\n",
    "    adv_crafter = BasicIterativeMethod(classifier, eps=1, eps_step=0.1)\n",
    "    x_train_adv = adv_crafter.generate(x_train)\n",
    "    x_test_adv = adv_crafter.generate(x_test)\n",
    "    \n",
    "    print(\"After BasicIterative Attack  \\n\")\n",
    "    file.write(\"==== BasicIterative Attack==== \\n\")\n",
    "    evaluate(x_train, x_test, y_train, y_test, x_train_adv, x_test_adv, y_train, y_test, classifier, file)\n",
    "    return x_test_adv, x_train_adv"
   ]
  },
  {
   "cell_type": "code",
   "execution_count": 32,
   "metadata": {},
   "outputs": [],
   "source": [
    "def atk_FastGradient(x_train, x_test, y_train, y_test, classifier, file):\n",
    "    epsilon = 0.1\n",
    "    #print('Create FastGradientMethod attack \\n')\n",
    "    adv_crafter = FastGradientMethod(classifier)\n",
    "    x_train_adv = adv_crafter.generate(x_train, eps=epsilon)\n",
    "    x_test_adv = adv_crafter.generate(x_test, eps=epsilon)\n",
    "    \n",
    "    print(\"After FastGradient Attack  \\n\")\n",
    "    file.write(\"==== FastGradient Attack==== \\n\")\n",
    "    evaluate(x_train, x_test, y_train, y_test, x_train_adv, x_test_adv, y_train, y_test, classifier, file)\n",
    "    return x_test_adv, x_train_adv"
   ]
  },
  {
   "cell_type": "code",
   "execution_count": 33,
   "metadata": {},
   "outputs": [],
   "source": [
    "def atk_JSMA(x_train, x_test, y_train, y_test, classifier, file):\n",
    "    #print('Create JSMA attack \\n')\n",
    "    adv_crafter = SaliencyMapMethod(classifier, theta=1, gamma = 0.5)\n",
    "    x_train_adv = adv_crafter.generate(x_train)\n",
    "    x_test_adv = adv_crafter.generate(x_test)\n",
    "    \n",
    "    print(\"After JSMA Attack  \\n\")\n",
    "    file.write(\"==== JSMA Attack==== \\n\")\n",
    "    evaluate(x_train, x_test, y_train, y_test, x_train_adv, x_test_adv, y_train, y_test, classifier, file)\n",
    "    return x_test_adv, x_train_adv"
   ]
  },
  {
   "cell_type": "code",
   "execution_count": 34,
   "metadata": {},
   "outputs": [],
   "source": [
    "def atk_CarliniL2(x_train, x_test, y_train, y_test, classifier, file):\n",
    "    #print('Create CarliniL2Method attack \\n')\n",
    "    adv_crafter = CarliniL2Method(classifier, targeted=True, max_iter=10, binary_search_steps=1, learning_rate=1, initial_const=10, decay=0)\n",
    "    params = {'y': random_targets(y_test, classifier.nb_classes)}\n",
    "    x_train_adv = adv_crafter.generate(x_train, **params)\n",
    "    x_test_adv = adv_crafter.generate(x_test, **params)\n",
    "    \n",
    "    print(\"After CarliniL2 Attack  \\n\")\n",
    "    file.write(\"==== CarliniL2 Attack==== \\n\")\n",
    "    evaluate(x_train, x_test, y_train, y_test, x_train_adv, x_test_adv, y_train, y_test, classifier, file)\n",
    "    return x_test_adv, x_train_adv"
   ]
  },
  {
   "cell_type": "code",
   "execution_count": 35,
   "metadata": {},
   "outputs": [],
   "source": [
    "def atk_NewtonFool(x_train, x_test, y_train, y_test, classifier, file):\n",
    "    adv_crafter = NewtonFool(classifier, max_iter=20)\n",
    "    x_train_adv = adv_crafter.generate(x_train)\n",
    "    x_test_adv = adv_crafter.generate(x_test)\n",
    "\n",
    "    print(\"After NewtonFool Attack  \\n\")\n",
    "    file.write(\"==== NewtonFool Attack==== \\n\")\n",
    "    evaluate(x_train, x_test, y_train, y_test, x_train_adv, x_test_adv, y_train, y_test, classifier, file)\n",
    "    return x_test_adv, x_train_adv"
   ]
  },
  {
   "cell_type": "code",
   "execution_count": 36,
   "metadata": {},
   "outputs": [],
   "source": [
    "def atk_UniPerturb(x_train, x_test, y_train, y_test, classifier, file):\n",
    "    attack_params = {\"attacker\": \"fgsm\", \"attacker_params\": {\"max_iter\": 3}}\n",
    "    adv_crafter = UniversalPerturbation(classifier)\n",
    "    x_train_adv = adv_crafter.generate(x_train, **attack_params)\n",
    "    x_test_adv = adv_crafter.generate(x_test, **attack_params)\n",
    "\n",
    "    print(\"After UniversalPerturbation FGSM Attack  \\n\")\n",
    "    file.write(\"==== UniversalPerturbation FGSM Attack==== \\n\")\n",
    "    evaluate(x_train, x_test, y_train, y_test, x_train_adv, x_test_adv, y_train, y_test, classifier, file)\n",
    "    return x_test_adv, x_train_adv"
   ]
  },
  {
   "cell_type": "markdown",
   "metadata": {},
   "source": [
    "### Defense Functions"
   ]
  },
  {
   "cell_type": "code",
   "execution_count": 38,
   "metadata": {},
   "outputs": [],
   "source": [
    "def def_AdversarialTraining(x_train, x_test, y_train, y_test, x_train_adv, x_test_adv, min_, max_, attack_list, file):\n",
    "    # print result\n",
    "    print(\"After AdversarialTraining Defense\\n\")\n",
    "    file.write(\"==== AdversarialTraining Defense==== \\n\")\n",
    "    train_num = 60000\n",
    "    test_num = 10000\n",
    "    for k in range (7):\n",
    "        # expand the training set with the adversarial samples\n",
    "        x_train_aug = np.append(x_train, x_train_adv[k*train_num:(k+1)*train_num], axis=0)\n",
    "        y_train_aug = np.append(y_train, y_train, axis=0)\n",
    "        # retrain the Network on the extended dataset\n",
    "        classifier = create_nn(min_, max_)\n",
    "        classifier.fit(x_train_aug, y_train_aug, nb_epochs=5, batch_size=50)\n",
    "        \n",
    "        file.write(\"==== %s Attack ====\\n\" % (attack_list[k]))\n",
    "        evaluate(x_train, x_test, y_train, y_test, x_train_adv[k*train_num:(k+1)*train_num], x_test_adv[k*test_num:(k+1)*test_num], y_train, y_test, classifier, file)"
   ]
  },
  {
   "cell_type": "code",
   "execution_count": 37,
   "metadata": {},
   "outputs": [],
   "source": [
    "def def_SpatialSmoothing(x_train, x_test, y_train, y_test, x_train_adv, x_test_adv, min_, max_, attack_list, file):\n",
    "    train_num = 60000\n",
    "    test_num = 10000\n",
    "    # reshape to smooth\n",
    "    x_train = x_train.reshape(train_num, 28, 28, 1)\n",
    "    x_test = x_test.reshape(test_num, 28, 28, 1)\n",
    "    x_train_adv = x_train_adv.reshape(7*train_num, 28, 28, 1)\n",
    "    x_test_adv = x_test_adv.reshape(7*test_num, 28, 28, 1)\n",
    "    # smooth\n",
    "    smoother = SpatialSmoothing()\n",
    "    x_train_smooth = smoother(x_train, window_size=3)\n",
    "    x_test_smooth = smoother(x_test, window_size=3)\n",
    "    x_train_adv_smooth = smoother(x_train_adv, window_size=3)\n",
    "    x_test_adv_smooth = smoother(x_test_adv, window_size=3)\n",
    "    # reshape back\n",
    "    x_train_smooth = x_train_smooth.reshape(train_num, 784)\n",
    "    x_test_smooth = x_test_smooth.reshape(test_num, 784)\n",
    "    x_train_adv_smooth = x_train_adv_smooth.reshape(7*train_num, 784)\n",
    "    x_test_adv_smooth = x_test_adv_smooth.reshape(7*test_num, 784)\n",
    "    \n",
    "    # train network\n",
    "    classifier = create_nn(min_, max_)\n",
    "    classifier.fit(x_train_smooth, y_train, nb_epochs=5, batch_size=50)\n",
    "    \n",
    "    # print result\n",
    "    print(\"After SpatialSmoothing Defense\\n\")\n",
    "    file.write(\"==== SpatialSmoothing Defense==== \\n\")\n",
    "    for k in range (7):\n",
    "        file.write(\"==== %s Attack ====\\n\" % (attack_list[k]))\n",
    "        evaluate(x_train_smooth, x_test_smooth, y_train, y_test, x_train_adv_smooth[k*train_num:(k+1)*train_num], x_test_adv_smooth[k*test_num:(k+1)*test_num], y_train, y_test, classifier, file)"
   ]
  },
  {
   "cell_type": "code",
   "execution_count": 39,
   "metadata": {},
   "outputs": [],
   "source": [
    "def def_FeatureSqueezing(x_train, x_test, y_train, y_test, x_train_adv, x_test_adv, min_, max_, attack_list, file):\n",
    "    train_num = 60000\n",
    "    test_num = 10000\n",
    "    squeezer = FeatureSqueezing()\n",
    "    x_train_squeeze = squeezer(x_train, bit_depth=2)\n",
    "    x_test_squeeze = squeezer(x_test, bit_depth=2)\n",
    "    x_train_adv_squeeze = squeezer(x_train_adv[0:6*train_num], bit_depth=2)\n",
    "    x_test_adv_squeeze = squeezer(x_test_adv[0:6*test_num], bit_depth=2)\n",
    "    \n",
    "    # train network\n",
    "    classifier = create_nn(min_, max_)\n",
    "    classifier.fit(x_train_squeeze, y_train, nb_epochs=5, batch_size=50)\n",
    "    \n",
    "    # print result\n",
    "    print(\"After FeatureSqueezing Defense\\n\")\n",
    "    file.write(\"==== FeatureSqueezing Defense==== \\n\")\n",
    "    \n",
    "    for k in range (6):\n",
    "        file.write(\"==== %s Attack ====\\n\" % (attack_list[k]))\n",
    "        evaluate(x_train_squeeze, x_test_squeeze, y_train, y_test, x_train_adv_squeeze[k*train_num:(k+1)*train_num], x_test_adv_squeeze[k*test_num:(k+1)*test_num], y_train, y_test, classifier, file)"
   ]
  },
  {
   "cell_type": "code",
   "execution_count": 40,
   "metadata": {},
   "outputs": [],
   "source": [
    "def def_GaussianAugmentation(x_raw, x_raw_test, y_raw, y_raw_test, x_train_adv, x_test_adv, y_train, y_test, min_, max_, attack_list, file):\n",
    "    train_num = 60000\n",
    "    test_num = 10000\n",
    "    # gaussian augmentation\n",
    "    ga = GaussianAugmentation(sigma=150)\n",
    "    x_train_aug, y_train_aug = ga(x_raw, y_raw)\n",
    "    x_test_aug, y_test_aug = ga(x_raw_test, y_raw_test)\n",
    "    x_train_aug, y_train_aug = preprocess(x_train_aug, y_train_aug)\n",
    "    x_test_aug, y_test_aug = preprocess(x_test_aug, y_test_aug)\n",
    "    x_train_aug = x_train_aug.reshape(2*train_num, 784)\n",
    "    x_test_aug = x_test_aug.reshape(2*test_num, 784)\n",
    "    \n",
    "    # train network\n",
    "    classifier = create_nn(min_, max_)\n",
    "    classifier.fit(x_train_aug, y_train_aug, nb_epochs=5, batch_size=50)\n",
    "    \n",
    "    # print result\n",
    "    print(\"After GaussianAugmentation Defense\\n\")\n",
    "    file.write(\"==== GaussianAugmentation Defense==== \\n\")\n",
    "    for k in range (7):\n",
    "        file.write(\"==== %s Attack ====\\n\" % (attack_list[k]))\n",
    "        evaluate(x_train_aug, x_test_aug, y_train_aug, y_test_aug, x_train_adv[k*train_num:(k+1)*train_num], x_test_adv[k*test_num:(k+1)*test_num], y_train, y_test, classifier, file)"
   ]
  },
  {
   "cell_type": "code",
   "execution_count": 41,
   "metadata": {},
   "outputs": [],
   "source": [
    "def def_LabelSmoothing(x_train, x_test, y_train, y_test, x_train_adv, x_test_adv, min_, max_, attack_list, file):\n",
    "    labelsmoother = LabelSmoothing()\n",
    "    x_train, y_train_smooth = labelsmoother(x_train, y_train, max_value=.8)\n",
    "    x_test, y_test_smooth = labelsmoother(x_test, y_test, max_value=.8)\n",
    "    \n",
    "     # train network\n",
    "    classifier = create_nn(min_, max_)\n",
    "    classifier.fit(x_train, y_train_smooth, nb_epochs=5, batch_size=50)\n",
    "    \n",
    "    # print result\n",
    "    print(\"After LabelSmoothing Defense\\n\")\n",
    "    file.write(\"==== LabelSmoothing Defense==== \\n\")\n",
    "    train_num = 60000\n",
    "    test_num = 10000\n",
    "    for k in range (7):\n",
    "        file.write(\"==== %s Attack ====\\n\" % (attack_list[k]))\n",
    "        evaluate(x_train, x_test, y_train_smooth, y_test_smooth, x_train_adv[k*train_num:(k+1)*train_num], x_test_adv[k*test_num:(k+1)*test_num], y_train, y_test, classifier, file)   "
   ]
  },
  {
   "cell_type": "markdown",
   "metadata": {},
   "source": [
    "## Preprocessing"
   ]
  },
  {
   "cell_type": "markdown",
   "metadata": {},
   "source": [
    "### Read MNIST dataset (x_raw contains the original images):"
   ]
  },
  {
   "cell_type": "code",
   "execution_count": 42,
   "metadata": {},
   "outputs": [],
   "source": [
    "(x_raw, y_raw), (x_raw_test, y_raw_test), min_, max_ = load_mnist_raw()\n",
    "x_train, y_train = preprocess(x_raw, y_raw)\n",
    "x_test, y_test = preprocess(x_raw_test, y_raw_test)\n",
    "x_train = x_train.reshape(60000, 784)\n",
    "x_test = x_test.reshape(10000, 784)"
   ]
  },
  {
   "cell_type": "code",
   "execution_count": 160,
   "metadata": {},
   "outputs": [
    {
     "data": {
      "image/png": "[encoded data removed]",
      "text/plain": [
       "<matplotlib.figure.Figure at 0x1249c1048>"
      ]
     },
     "metadata": {},
     "output_type": "display_data"
    }
   ],
   "source": [
    "plot(x_raw, 1, 'Clean')"
   ]
  },
  {
   "cell_type": "markdown",
   "metadata": {},
   "source": [
    "### Create and train baseline network"
   ]
  },
  {
   "cell_type": "code",
   "execution_count": 43,
   "metadata": {},
   "outputs": [
    {
     "name": "stdout",
     "output_type": "stream",
     "text": [
      "Epoch 1/5\n",
      "1200/1200 [==============================] - 2s 2ms/step - loss: 0.0132 - acc: 0.9143\n",
      "Epoch 2/5\n",
      "1200/1200 [==============================] - 2s 2ms/step - loss: 0.0063 - acc: 0.9603\n",
      "Epoch 3/5\n",
      "1200/1200 [==============================] - 2s 2ms/step - loss: 0.0049 - acc: 0.9689\n",
      "Epoch 4/5\n",
      "1200/1200 [==============================] - 2s 2ms/step - loss: 0.0039 - acc: 0.9756\n",
      "Epoch 5/5\n",
      "1200/1200 [==============================] - 2s 2ms/step - loss: 0.0035 - acc: 0.9782\n"
     ]
    }
   ],
   "source": [
    "classifier = create_nn(min_, max_)\n",
    "classifier.fit(x_train, y_train, nb_epochs=5, batch_size=50)"
   ]
  },
  {
   "cell_type": "markdown",
   "metadata": {},
   "source": [
    "## Construct Adversarial Images on MNIST"
   ]
  },
  {
   "cell_type": "code",
   "execution_count": 50,
   "metadata": {},
   "outputs": [],
   "source": [
    "adv_test = {}\n",
    "adv_train = {}"
   ]
  },
  {
   "cell_type": "markdown",
   "metadata": {},
   "source": [
    "### Deepfool"
   ]
  },
  {
   "cell_type": "code",
   "execution_count": 162,
   "metadata": {},
   "outputs": [
    {
     "ename": "KeyboardInterrupt",
     "evalue": "",
     "output_type": "error",
     "traceback": [
      "\u001b[0;31m---------------------------------------------------------------------------\u001b[0m",
      "\u001b[0;31mKeyboardInterrupt\u001b[0m                         Traceback (most recent call last)",
      "\u001b[0;32m<timed exec>\u001b[0m in \u001b[0;36m<module>\u001b[0;34m()\u001b[0m\n",
      "\u001b[0;32m<ipython-input-30-38483a0a4732>\u001b[0m in \u001b[0;36matk_DeepFool\u001b[0;34m(x_train, x_test, y_train, y_test, classifier, file)\u001b[0m\n\u001b[1;32m      2\u001b[0m     \u001b[0;31m#print('Create DeepFool attack \\n')\u001b[0m\u001b[0;34m\u001b[0m\u001b[0;34m\u001b[0m\u001b[0m\n\u001b[1;32m      3\u001b[0m     \u001b[0madv_crafter\u001b[0m \u001b[0;34m=\u001b[0m \u001b[0mDeepFool\u001b[0m\u001b[0;34m(\u001b[0m\u001b[0mclassifier\u001b[0m\u001b[0;34m,\u001b[0m \u001b[0mmax_iter\u001b[0m\u001b[0;34m=\u001b[0m\u001b[0;36m15\u001b[0m\u001b[0;34m)\u001b[0m\u001b[0;34m\u001b[0m\u001b[0m\n\u001b[0;32m----> 4\u001b[0;31m     \u001b[0mx_train_adv\u001b[0m \u001b[0;34m=\u001b[0m \u001b[0madv_crafter\u001b[0m\u001b[0;34m.\u001b[0m\u001b[0mgenerate\u001b[0m\u001b[0;34m(\u001b[0m\u001b[0mx_train\u001b[0m\u001b[0;34m)\u001b[0m\u001b[0;34m\u001b[0m\u001b[0m\n\u001b[0m\u001b[1;32m      5\u001b[0m     \u001b[0mx_test_adv\u001b[0m \u001b[0;34m=\u001b[0m \u001b[0madv_crafter\u001b[0m\u001b[0;34m.\u001b[0m\u001b[0mgenerate\u001b[0m\u001b[0;34m(\u001b[0m\u001b[0mx_test\u001b[0m\u001b[0;34m)\u001b[0m\u001b[0;34m\u001b[0m\u001b[0m\n\u001b[1;32m      6\u001b[0m \u001b[0;34m\u001b[0m\u001b[0m\n",
      "\u001b[0;32m/usr/local/lib/python3.6/site-packages/art/attacks/deepfool.py\u001b[0m in \u001b[0;36mgenerate\u001b[0;34m(self, x, **kwargs)\u001b[0m\n\u001b[1;32m     89\u001b[0m                 \u001b[0;31m# Recompute prediction for new xj\u001b[0m\u001b[0;34m\u001b[0m\u001b[0;34m\u001b[0m\u001b[0m\n\u001b[1;32m     90\u001b[0m                 \u001b[0mf\u001b[0m \u001b[0;34m=\u001b[0m \u001b[0mself\u001b[0m\u001b[0;34m.\u001b[0m\u001b[0mclassifier\u001b[0m\u001b[0;34m.\u001b[0m\u001b[0mpredict\u001b[0m\u001b[0;34m(\u001b[0m\u001b[0mxj\u001b[0m\u001b[0;34m,\u001b[0m \u001b[0mlogits\u001b[0m\u001b[0;34m=\u001b[0m\u001b[0;32mTrue\u001b[0m\u001b[0;34m)\u001b[0m\u001b[0;34m[\u001b[0m\u001b[0;36m0\u001b[0m\u001b[0;34m]\u001b[0m\u001b[0;34m\u001b[0m\u001b[0m\n\u001b[0;32m---> 91\u001b[0;31m                 \u001b[0mgrd\u001b[0m \u001b[0;34m=\u001b[0m \u001b[0mself\u001b[0m\u001b[0;34m.\u001b[0m\u001b[0mclassifier\u001b[0m\u001b[0;34m.\u001b[0m\u001b[0mclass_gradient\u001b[0m\u001b[0;34m(\u001b[0m\u001b[0mxj\u001b[0m\u001b[0;34m,\u001b[0m \u001b[0mlogits\u001b[0m\u001b[0;34m=\u001b[0m\u001b[0;32mTrue\u001b[0m\u001b[0;34m)\u001b[0m\u001b[0;34m[\u001b[0m\u001b[0;36m0\u001b[0m\u001b[0;34m]\u001b[0m\u001b[0;34m\u001b[0m\u001b[0m\n\u001b[0m\u001b[1;32m     92\u001b[0m                 \u001b[0mfk_i_hat\u001b[0m \u001b[0;34m=\u001b[0m \u001b[0mnp\u001b[0m\u001b[0;34m.\u001b[0m\u001b[0margmax\u001b[0m\u001b[0;34m(\u001b[0m\u001b[0mf\u001b[0m\u001b[0;34m)\u001b[0m\u001b[0;34m\u001b[0m\u001b[0m\n\u001b[1;32m     93\u001b[0m \u001b[0;34m\u001b[0m\u001b[0m\n",
      "\u001b[0;32m/usr/local/lib/python3.6/site-packages/art/classifiers/keras.py\u001b[0m in \u001b[0;36mclass_gradient\u001b[0;34m(self, x, label, logits)\u001b[0m\n\u001b[1;32m    138\u001b[0m         \u001b[0;32melse\u001b[0m\u001b[0;34m:\u001b[0m\u001b[0;34m\u001b[0m\u001b[0m\n\u001b[1;32m    139\u001b[0m             \u001b[0;32mif\u001b[0m \u001b[0mlogits\u001b[0m\u001b[0;34m:\u001b[0m\u001b[0;34m\u001b[0m\u001b[0m\n\u001b[0;32m--> 140\u001b[0;31m                 \u001b[0mgrads\u001b[0m \u001b[0;34m=\u001b[0m \u001b[0mnp\u001b[0m\u001b[0;34m.\u001b[0m\u001b[0mswapaxes\u001b[0m\u001b[0;34m(\u001b[0m\u001b[0mnp\u001b[0m\u001b[0;34m.\u001b[0m\u001b[0marray\u001b[0m\u001b[0;34m(\u001b[0m\u001b[0mself\u001b[0m\u001b[0;34m.\u001b[0m\u001b[0m_class_grads_logits\u001b[0m\u001b[0;34m(\u001b[0m\u001b[0;34m[\u001b[0m\u001b[0mx_\u001b[0m\u001b[0;34m]\u001b[0m\u001b[0;34m)\u001b[0m\u001b[0;34m)\u001b[0m\u001b[0;34m,\u001b[0m \u001b[0;36m0\u001b[0m\u001b[0;34m,\u001b[0m \u001b[0;36m1\u001b[0m\u001b[0;34m)\u001b[0m\u001b[0;34m\u001b[0m\u001b[0m\n\u001b[0m\u001b[1;32m    141\u001b[0m             \u001b[0;32melse\u001b[0m\u001b[0;34m:\u001b[0m\u001b[0;34m\u001b[0m\u001b[0m\n\u001b[1;32m    142\u001b[0m                 \u001b[0mgrads\u001b[0m \u001b[0;34m=\u001b[0m \u001b[0mnp\u001b[0m\u001b[0;34m.\u001b[0m\u001b[0mswapaxes\u001b[0m\u001b[0;34m(\u001b[0m\u001b[0mnp\u001b[0m\u001b[0;34m.\u001b[0m\u001b[0marray\u001b[0m\u001b[0;34m(\u001b[0m\u001b[0mself\u001b[0m\u001b[0;34m.\u001b[0m\u001b[0m_class_grads\u001b[0m\u001b[0;34m(\u001b[0m\u001b[0;34m[\u001b[0m\u001b[0mx_\u001b[0m\u001b[0;34m]\u001b[0m\u001b[0;34m)\u001b[0m\u001b[0;34m)\u001b[0m\u001b[0;34m,\u001b[0m \u001b[0;36m0\u001b[0m\u001b[0;34m,\u001b[0m \u001b[0;36m1\u001b[0m\u001b[0;34m)\u001b[0m\u001b[0;34m\u001b[0m\u001b[0m\n",
      "\u001b[0;32m/usr/local/lib/python3.6/site-packages/keras/backend/tensorflow_backend.py\u001b[0m in \u001b[0;36m__call__\u001b[0;34m(self, inputs)\u001b[0m\n\u001b[1;32m   2670\u001b[0m                     \u001b[0;34m'In order to feed symbolic tensors to a Keras model '\u001b[0m\u001b[0;34m\u001b[0m\u001b[0m\n\u001b[1;32m   2671\u001b[0m                     'in TensorFlow, you need tensorflow 1.8 or higher.')\n\u001b[0;32m-> 2672\u001b[0;31m             \u001b[0;32mreturn\u001b[0m \u001b[0mself\u001b[0m\u001b[0;34m.\u001b[0m\u001b[0m_legacy_call\u001b[0m\u001b[0;34m(\u001b[0m\u001b[0minputs\u001b[0m\u001b[0;34m)\u001b[0m\u001b[0;34m\u001b[0m\u001b[0m\n\u001b[0m\u001b[1;32m   2673\u001b[0m \u001b[0;34m\u001b[0m\u001b[0m\n\u001b[1;32m   2674\u001b[0m \u001b[0;34m\u001b[0m\u001b[0m\n",
      "\u001b[0;32m/usr/local/lib/python3.6/site-packages/keras/backend/tensorflow_backend.py\u001b[0m in \u001b[0;36m_legacy_call\u001b[0;34m(self, inputs)\u001b[0m\n\u001b[1;32m   2652\u001b[0m         \u001b[0msession\u001b[0m \u001b[0;34m=\u001b[0m \u001b[0mget_session\u001b[0m\u001b[0;34m(\u001b[0m\u001b[0;34m)\u001b[0m\u001b[0;34m\u001b[0m\u001b[0m\n\u001b[1;32m   2653\u001b[0m         updated = session.run(fetches=fetches, feed_dict=feed_dict,\n\u001b[0;32m-> 2654\u001b[0;31m                               **self.session_kwargs)\n\u001b[0m\u001b[1;32m   2655\u001b[0m         \u001b[0;32mreturn\u001b[0m \u001b[0mupdated\u001b[0m\u001b[0;34m[\u001b[0m\u001b[0;34m:\u001b[0m\u001b[0mlen\u001b[0m\u001b[0;34m(\u001b[0m\u001b[0mself\u001b[0m\u001b[0;34m.\u001b[0m\u001b[0moutputs\u001b[0m\u001b[0;34m)\u001b[0m\u001b[0;34m]\u001b[0m\u001b[0;34m\u001b[0m\u001b[0m\n\u001b[1;32m   2656\u001b[0m \u001b[0;34m\u001b[0m\u001b[0m\n",
      "\u001b[0;32m/usr/local/lib/python3.6/site-packages/tensorflow/python/client/session.py\u001b[0m in \u001b[0;36mrun\u001b[0;34m(self, fetches, feed_dict, options, run_metadata)\u001b[0m\n\u001b[1;32m    903\u001b[0m     \u001b[0;32mtry\u001b[0m\u001b[0;34m:\u001b[0m\u001b[0;34m\u001b[0m\u001b[0m\n\u001b[1;32m    904\u001b[0m       result = self._run(None, fetches, feed_dict, options_ptr,\n\u001b[0;32m--> 905\u001b[0;31m                          run_metadata_ptr)\n\u001b[0m\u001b[1;32m    906\u001b[0m       \u001b[0;32mif\u001b[0m \u001b[0mrun_metadata\u001b[0m\u001b[0;34m:\u001b[0m\u001b[0;34m\u001b[0m\u001b[0m\n\u001b[1;32m    907\u001b[0m         \u001b[0mproto_data\u001b[0m \u001b[0;34m=\u001b[0m \u001b[0mtf_session\u001b[0m\u001b[0;34m.\u001b[0m\u001b[0mTF_GetBuffer\u001b[0m\u001b[0;34m(\u001b[0m\u001b[0mrun_metadata_ptr\u001b[0m\u001b[0;34m)\u001b[0m\u001b[0;34m\u001b[0m\u001b[0m\n",
      "\u001b[0;32m/usr/local/lib/python3.6/site-packages/tensorflow/python/client/session.py\u001b[0m in \u001b[0;36m_run\u001b[0;34m(self, handle, fetches, feed_dict, options, run_metadata)\u001b[0m\n\u001b[1;32m   1135\u001b[0m     \u001b[0;32mif\u001b[0m \u001b[0mfinal_fetches\u001b[0m \u001b[0;32mor\u001b[0m \u001b[0mfinal_targets\u001b[0m \u001b[0;32mor\u001b[0m \u001b[0;34m(\u001b[0m\u001b[0mhandle\u001b[0m \u001b[0;32mand\u001b[0m \u001b[0mfeed_dict_tensor\u001b[0m\u001b[0;34m)\u001b[0m\u001b[0;34m:\u001b[0m\u001b[0;34m\u001b[0m\u001b[0m\n\u001b[1;32m   1136\u001b[0m       results = self._do_run(handle, final_targets, final_fetches,\n\u001b[0;32m-> 1137\u001b[0;31m                              feed_dict_tensor, options, run_metadata)\n\u001b[0m\u001b[1;32m   1138\u001b[0m     \u001b[0;32melse\u001b[0m\u001b[0;34m:\u001b[0m\u001b[0;34m\u001b[0m\u001b[0m\n\u001b[1;32m   1139\u001b[0m       \u001b[0mresults\u001b[0m \u001b[0;34m=\u001b[0m \u001b[0;34m[\u001b[0m\u001b[0;34m]\u001b[0m\u001b[0;34m\u001b[0m\u001b[0m\n",
      "\u001b[0;32m/usr/local/lib/python3.6/site-packages/tensorflow/python/client/session.py\u001b[0m in \u001b[0;36m_do_run\u001b[0;34m(self, handle, target_list, fetch_list, feed_dict, options, run_metadata)\u001b[0m\n\u001b[1;32m   1353\u001b[0m     \u001b[0;32mif\u001b[0m \u001b[0mhandle\u001b[0m \u001b[0;32mis\u001b[0m \u001b[0;32mNone\u001b[0m\u001b[0;34m:\u001b[0m\u001b[0;34m\u001b[0m\u001b[0m\n\u001b[1;32m   1354\u001b[0m       return self._do_call(_run_fn, self._session, feeds, fetches, targets,\n\u001b[0;32m-> 1355\u001b[0;31m                            options, run_metadata)\n\u001b[0m\u001b[1;32m   1356\u001b[0m     \u001b[0;32melse\u001b[0m\u001b[0;34m:\u001b[0m\u001b[0;34m\u001b[0m\u001b[0m\n\u001b[1;32m   1357\u001b[0m       \u001b[0;32mreturn\u001b[0m \u001b[0mself\u001b[0m\u001b[0;34m.\u001b[0m\u001b[0m_do_call\u001b[0m\u001b[0;34m(\u001b[0m\u001b[0m_prun_fn\u001b[0m\u001b[0;34m,\u001b[0m \u001b[0mself\u001b[0m\u001b[0;34m.\u001b[0m\u001b[0m_session\u001b[0m\u001b[0;34m,\u001b[0m \u001b[0mhandle\u001b[0m\u001b[0;34m,\u001b[0m \u001b[0mfeeds\u001b[0m\u001b[0;34m,\u001b[0m \u001b[0mfetches\u001b[0m\u001b[0;34m)\u001b[0m\u001b[0;34m\u001b[0m\u001b[0m\n",
      "\u001b[0;32m/usr/local/lib/python3.6/site-packages/tensorflow/python/client/session.py\u001b[0m in \u001b[0;36m_do_call\u001b[0;34m(self, fn, *args)\u001b[0m\n\u001b[1;32m   1359\u001b[0m   \u001b[0;32mdef\u001b[0m \u001b[0m_do_call\u001b[0m\u001b[0;34m(\u001b[0m\u001b[0mself\u001b[0m\u001b[0;34m,\u001b[0m \u001b[0mfn\u001b[0m\u001b[0;34m,\u001b[0m \u001b[0;34m*\u001b[0m\u001b[0margs\u001b[0m\u001b[0;34m)\u001b[0m\u001b[0;34m:\u001b[0m\u001b[0;34m\u001b[0m\u001b[0m\n\u001b[1;32m   1360\u001b[0m     \u001b[0;32mtry\u001b[0m\u001b[0;34m:\u001b[0m\u001b[0;34m\u001b[0m\u001b[0m\n\u001b[0;32m-> 1361\u001b[0;31m       \u001b[0;32mreturn\u001b[0m \u001b[0mfn\u001b[0m\u001b[0;34m(\u001b[0m\u001b[0;34m*\u001b[0m\u001b[0margs\u001b[0m\u001b[0;34m)\u001b[0m\u001b[0;34m\u001b[0m\u001b[0m\n\u001b[0m\u001b[1;32m   1362\u001b[0m     \u001b[0;32mexcept\u001b[0m \u001b[0merrors\u001b[0m\u001b[0;34m.\u001b[0m\u001b[0mOpError\u001b[0m \u001b[0;32mas\u001b[0m \u001b[0me\u001b[0m\u001b[0;34m:\u001b[0m\u001b[0;34m\u001b[0m\u001b[0m\n\u001b[1;32m   1363\u001b[0m       \u001b[0mmessage\u001b[0m \u001b[0;34m=\u001b[0m \u001b[0mcompat\u001b[0m\u001b[0;34m.\u001b[0m\u001b[0mas_text\u001b[0m\u001b[0;34m(\u001b[0m\u001b[0me\u001b[0m\u001b[0;34m.\u001b[0m\u001b[0mmessage\u001b[0m\u001b[0;34m)\u001b[0m\u001b[0;34m\u001b[0m\u001b[0m\n",
      "\u001b[0;32m/usr/local/lib/python3.6/site-packages/tensorflow/python/client/session.py\u001b[0m in \u001b[0;36m_run_fn\u001b[0;34m(session, feed_dict, fetch_list, target_list, options, run_metadata)\u001b[0m\n\u001b[1;32m   1338\u001b[0m         \u001b[0;32melse\u001b[0m\u001b[0;34m:\u001b[0m\u001b[0;34m\u001b[0m\u001b[0m\n\u001b[1;32m   1339\u001b[0m           return tf_session.TF_Run(session, options, feed_dict, fetch_list,\n\u001b[0;32m-> 1340\u001b[0;31m                                    target_list, status, run_metadata)\n\u001b[0m\u001b[1;32m   1341\u001b[0m \u001b[0;34m\u001b[0m\u001b[0m\n\u001b[1;32m   1342\u001b[0m     \u001b[0;32mdef\u001b[0m \u001b[0m_prun_fn\u001b[0m\u001b[0;34m(\u001b[0m\u001b[0msession\u001b[0m\u001b[0;34m,\u001b[0m \u001b[0mhandle\u001b[0m\u001b[0;34m,\u001b[0m \u001b[0mfeed_dict\u001b[0m\u001b[0;34m,\u001b[0m \u001b[0mfetch_list\u001b[0m\u001b[0;34m)\u001b[0m\u001b[0;34m:\u001b[0m\u001b[0;34m\u001b[0m\u001b[0m\n",
      "\u001b[0;31mKeyboardInterrupt\u001b[0m: "
     ]
    },
    {
     "ename": "KeyError",
     "evalue": "'DeepFool'",
     "output_type": "error",
     "traceback": [
      "\u001b[0;31m---------------------------------------------------------------------------\u001b[0m",
      "\u001b[0;31mKeyError\u001b[0m                                  Traceback (most recent call last)",
      "\u001b[0;32m<ipython-input-162-20d1cd2a764a>\u001b[0m in \u001b[0;36m<module>\u001b[0;34m()\u001b[0m\n\u001b[1;32m      1\u001b[0m \u001b[0mget_ipython\u001b[0m\u001b[0;34m(\u001b[0m\u001b[0;34m)\u001b[0m\u001b[0;34m.\u001b[0m\u001b[0mrun_line_magic\u001b[0m\u001b[0;34m(\u001b[0m\u001b[0;34m'time'\u001b[0m\u001b[0;34m,\u001b[0m \u001b[0;34m\"adv_test['DeepFool'], adv_train['DeepFool'] = atk_DeepFool(x_train, x_test, y_train, y_test, classifier, baseline_file)\"\u001b[0m\u001b[0;34m)\u001b[0m\u001b[0;34m\u001b[0m\u001b[0m\n\u001b[0;32m----> 2\u001b[0;31m \u001b[0mnp\u001b[0m\u001b[0;34m.\u001b[0m\u001b[0msave\u001b[0m\u001b[0;34m(\u001b[0m\u001b[0;34m'adv/test_DeepFool'\u001b[0m\u001b[0;34m,\u001b[0m \u001b[0madv_test\u001b[0m\u001b[0;34m[\u001b[0m\u001b[0;34m'DeepFool'\u001b[0m\u001b[0;34m]\u001b[0m\u001b[0;34m)\u001b[0m\u001b[0;34m\u001b[0m\u001b[0m\n\u001b[0m\u001b[1;32m      3\u001b[0m \u001b[0mnp\u001b[0m\u001b[0;34m.\u001b[0m\u001b[0msave\u001b[0m\u001b[0;34m(\u001b[0m\u001b[0;34m'adv/train_DeepFool'\u001b[0m\u001b[0;34m,\u001b[0m \u001b[0madv_train\u001b[0m\u001b[0;34m[\u001b[0m\u001b[0;34m'DeepFool'\u001b[0m\u001b[0;34m]\u001b[0m\u001b[0;34m)\u001b[0m\u001b[0;34m\u001b[0m\u001b[0m\n",
      "\u001b[0;31mKeyError\u001b[0m: 'DeepFool'"
     ]
    }
   ],
   "source": [
    "%time adv_test['DeepFool'], adv_train['DeepFool'] = atk_DeepFool(x_train, x_test, y_train, y_test, classifier, baseline_file)\n",
    "np.save('adv/test_DeepFool', adv_test['DeepFool'])\n",
    "np.save('adv/train_DeepFool', adv_train['DeepFool'])"
   ]
  },
  {
   "cell_type": "markdown",
   "metadata": {},
   "source": [
    "### BasicIterative"
   ]
  },
  {
   "cell_type": "code",
   "execution_count": 89,
   "metadata": {},
   "outputs": [
    {
     "name": "stdout",
     "output_type": "stream",
     "text": [
      "After BasicIterative Attack  \n",
      "\n",
      "TRAIN: 98.04% \n",
      "\n",
      "TRAIN-ADVERSARY: 16.20% \n",
      "\n",
      "TEST: 97.08% \n",
      "\n",
      "TEST-ADVERSARY: 17.91% \n",
      "\n",
      "CPU times: user 1min 6s, sys: 22.7 s, total: 1min 29s\n",
      "Wall time: 1min 7s\n"
     ]
    }
   ],
   "source": [
    "%time adv_test['BasicIterative'], adv_train['BasicIterative'] = atk_BasicIterative(x_train, x_test, y_train, y_test, classifier, baseline_file)\n",
    "np.save('adv/BasicIterative', adv_test['BasicIterative'])\n",
    "np.save('adv/BasicIterative', adv_train['BasicIterative'])"
   ]
  },
  {
   "cell_type": "code",
   "execution_count": 159,
   "metadata": {},
   "outputs": [
    {
     "data": {
      "image/png": "[encoded data removed]",
      "text/plain": [
       "<matplotlib.figure.Figure at 0x136a012e8>"
      ]
     },
     "metadata": {},
     "output_type": "display_data"
    }
   ],
   "source": [
    "plot(adv_train['BasicIterative'], 1, 'BasicIterative')"
   ]
  },
  {
   "cell_type": "markdown",
   "metadata": {},
   "source": [
    "### FGSM"
   ]
  },
  {
   "cell_type": "code",
   "execution_count": 163,
   "metadata": {},
   "outputs": [
    {
     "name": "stdout",
     "output_type": "stream",
     "text": [
      "After FastGradient Attack  \n",
      "\n",
      "TRAIN: 98.04% \n",
      "\n",
      "TRAIN-ADVERSARY: 16.40% \n",
      "\n",
      "TEST: 97.08% \n",
      "\n",
      "TEST-ADVERSARY: 18.38% \n",
      "\n",
      "CPU times: user 3.94 s, sys: 955 ms, total: 4.9 s\n",
      "Wall time: 2.92 s\n"
     ]
    },
    {
     "ename": "FileNotFoundError",
     "evalue": "[Errno 2] No such file or directory: 'adv/test_FGSM.npy'",
     "output_type": "error",
     "traceback": [
      "\u001b[0;31m---------------------------------------------------------------------------\u001b[0m",
      "\u001b[0;31mFileNotFoundError\u001b[0m                         Traceback (most recent call last)",
      "\u001b[0;32m<ipython-input-163-4cd092864e43>\u001b[0m in \u001b[0;36m<module>\u001b[0;34m()\u001b[0m\n\u001b[1;32m      1\u001b[0m \u001b[0mget_ipython\u001b[0m\u001b[0;34m(\u001b[0m\u001b[0;34m)\u001b[0m\u001b[0;34m.\u001b[0m\u001b[0mrun_line_magic\u001b[0m\u001b[0;34m(\u001b[0m\u001b[0;34m'time'\u001b[0m\u001b[0;34m,\u001b[0m \u001b[0;34m\"adv_test['FGSM'], adv_train['FGSM'] = atk_FastGradient(x_train, x_test, y_train, y_test, classifier, baseline_file)\"\u001b[0m\u001b[0;34m)\u001b[0m\u001b[0;34m\u001b[0m\u001b[0m\n\u001b[0;32m----> 2\u001b[0;31m \u001b[0mnp\u001b[0m\u001b[0;34m.\u001b[0m\u001b[0msave\u001b[0m\u001b[0;34m(\u001b[0m\u001b[0;34m'adv/test_FGSM'\u001b[0m\u001b[0;34m,\u001b[0m \u001b[0madv_test\u001b[0m\u001b[0;34m[\u001b[0m\u001b[0;34m'FGSM'\u001b[0m\u001b[0;34m]\u001b[0m\u001b[0;34m)\u001b[0m\u001b[0;34m\u001b[0m\u001b[0m\n\u001b[0m\u001b[1;32m      3\u001b[0m \u001b[0mnp\u001b[0m\u001b[0;34m.\u001b[0m\u001b[0msave\u001b[0m\u001b[0;34m(\u001b[0m\u001b[0;34m'adv/train_FGSM'\u001b[0m\u001b[0;34m,\u001b[0m \u001b[0madv_train\u001b[0m\u001b[0;34m[\u001b[0m\u001b[0;34m'FGSM'\u001b[0m\u001b[0;34m]\u001b[0m\u001b[0;34m)\u001b[0m\u001b[0;34m\u001b[0m\u001b[0m\n",
      "\u001b[0;32m/usr/local/lib/python3.6/site-packages/numpy/lib/npyio.py\u001b[0m in \u001b[0;36msave\u001b[0;34m(file, arr, allow_pickle, fix_imports)\u001b[0m\n\u001b[1;32m    490\u001b[0m         \u001b[0;32mif\u001b[0m \u001b[0;32mnot\u001b[0m \u001b[0mfile\u001b[0m\u001b[0;34m.\u001b[0m\u001b[0mendswith\u001b[0m\u001b[0;34m(\u001b[0m\u001b[0;34m'.npy'\u001b[0m\u001b[0;34m)\u001b[0m\u001b[0;34m:\u001b[0m\u001b[0;34m\u001b[0m\u001b[0m\n\u001b[1;32m    491\u001b[0m             \u001b[0mfile\u001b[0m \u001b[0;34m=\u001b[0m \u001b[0mfile\u001b[0m \u001b[0;34m+\u001b[0m \u001b[0;34m'.npy'\u001b[0m\u001b[0;34m\u001b[0m\u001b[0m\n\u001b[0;32m--> 492\u001b[0;31m         \u001b[0mfid\u001b[0m \u001b[0;34m=\u001b[0m \u001b[0mopen\u001b[0m\u001b[0;34m(\u001b[0m\u001b[0mfile\u001b[0m\u001b[0;34m,\u001b[0m \u001b[0;34m\"wb\"\u001b[0m\u001b[0;34m)\u001b[0m\u001b[0;34m\u001b[0m\u001b[0m\n\u001b[0m\u001b[1;32m    493\u001b[0m         \u001b[0mown_fid\u001b[0m \u001b[0;34m=\u001b[0m \u001b[0;32mTrue\u001b[0m\u001b[0;34m\u001b[0m\u001b[0m\n\u001b[1;32m    494\u001b[0m     \u001b[0;32melif\u001b[0m \u001b[0mis_pathlib_path\u001b[0m\u001b[0;34m(\u001b[0m\u001b[0mfile\u001b[0m\u001b[0;34m)\u001b[0m\u001b[0;34m:\u001b[0m\u001b[0;34m\u001b[0m\u001b[0m\n",
      "\u001b[0;31mFileNotFoundError\u001b[0m: [Errno 2] No such file or directory: 'adv/test_FGSM.npy'"
     ]
    }
   ],
   "source": [
    "%time adv_test['FGSM'], adv_train['FGSM'] = atk_FastGradient(x_train, x_test, y_train, y_test, classifier, baseline_file)\n",
    "np.save('adv/test_FGSM', adv_test['FGSM'])\n",
    "np.save('adv/train_FGSM', adv_train['FGSM'])"
   ]
  },
  {
   "cell_type": "code",
   "execution_count": 145,
   "metadata": {},
   "outputs": [
    {
     "data": {
      "image/png": "[encoded data removed]",
      "text/plain": [
       "<matplotlib.figure.Figure at 0x1241ac400>"
      ]
     },
     "metadata": {},
     "output_type": "display_data"
    }
   ],
   "source": [
    "plot(adv_train['FGSM'], 1, 'FGSM')"
   ]
  },
  {
   "cell_type": "markdown",
   "metadata": {},
   "source": [
    "### JSMA\n",
    "Slow but strong adversarial examples. Preceded FGSM."
   ]
  },
  {
   "cell_type": "code",
   "execution_count": 54,
   "metadata": {
    "collapsed": true
   },
   "outputs": [
    {
     "ename": "KeyboardInterrupt",
     "evalue": "",
     "output_type": "error",
     "traceback": [
      "\u001b[0;31m---------------------------------------------------------------------------\u001b[0m",
      "\u001b[0;31mKeyboardInterrupt\u001b[0m                         Traceback (most recent call last)",
      "\u001b[0;32m<timed exec>\u001b[0m in \u001b[0;36m<module>\u001b[0;34m()\u001b[0m\n",
      "\u001b[0;32m<ipython-input-33-9f93b645abfc>\u001b[0m in \u001b[0;36matk_JSMA\u001b[0;34m(x_train, x_test, y_train, y_test, classifier, file)\u001b[0m\n\u001b[1;32m      2\u001b[0m     \u001b[0;31m#print('Create JSMA attack \\n')\u001b[0m\u001b[0;34m\u001b[0m\u001b[0;34m\u001b[0m\u001b[0m\n\u001b[1;32m      3\u001b[0m     \u001b[0madv_crafter\u001b[0m \u001b[0;34m=\u001b[0m \u001b[0mSaliencyMapMethod\u001b[0m\u001b[0;34m(\u001b[0m\u001b[0mclassifier\u001b[0m\u001b[0;34m,\u001b[0m \u001b[0mtheta\u001b[0m\u001b[0;34m=\u001b[0m\u001b[0;36m1\u001b[0m\u001b[0;34m,\u001b[0m \u001b[0mgamma\u001b[0m \u001b[0;34m=\u001b[0m \u001b[0;36m0.5\u001b[0m\u001b[0;34m)\u001b[0m\u001b[0;34m\u001b[0m\u001b[0m\n\u001b[0;32m----> 4\u001b[0;31m     \u001b[0mx_train_adv\u001b[0m \u001b[0;34m=\u001b[0m \u001b[0madv_crafter\u001b[0m\u001b[0;34m.\u001b[0m\u001b[0mgenerate\u001b[0m\u001b[0;34m(\u001b[0m\u001b[0mx_train\u001b[0m\u001b[0;34m)\u001b[0m\u001b[0;34m\u001b[0m\u001b[0m\n\u001b[0m\u001b[1;32m      5\u001b[0m     \u001b[0mx_test_adv\u001b[0m \u001b[0;34m=\u001b[0m \u001b[0madv_crafter\u001b[0m\u001b[0;34m.\u001b[0m\u001b[0mgenerate\u001b[0m\u001b[0;34m(\u001b[0m\u001b[0mx_test\u001b[0m\u001b[0;34m)\u001b[0m\u001b[0;34m\u001b[0m\u001b[0m\n\u001b[1;32m      6\u001b[0m \u001b[0;34m\u001b[0m\u001b[0m\n",
      "\u001b[0;32m/usr/local/lib/python3.6/site-packages/art/attacks/saliency_map.py\u001b[0m in \u001b[0;36mgenerate\u001b[0;34m(self, x, **kwargs)\u001b[0m\n\u001b[1;32m     96\u001b[0m             \u001b[0;32mwhile\u001b[0m \u001b[0mcurrent_pred\u001b[0m \u001b[0;34m!=\u001b[0m \u001b[0mtarget\u001b[0m \u001b[0;32mand\u001b[0m \u001b[0mlen\u001b[0m\u001b[0;34m(\u001b[0m\u001b[0mall_feat\u001b[0m\u001b[0;34m)\u001b[0m \u001b[0;34m/\u001b[0m \u001b[0mself\u001b[0m\u001b[0;34m.\u001b[0m\u001b[0m_nb_features\u001b[0m \u001b[0;34m<=\u001b[0m \u001b[0mself\u001b[0m\u001b[0;34m.\u001b[0m\u001b[0mgamma\u001b[0m \u001b[0;32mand\u001b[0m \u001b[0mbool\u001b[0m\u001b[0;34m(\u001b[0m\u001b[0msearch_space\u001b[0m\u001b[0;34m)\u001b[0m\u001b[0;34m:\u001b[0m\u001b[0;34m\u001b[0m\u001b[0m\n\u001b[1;32m     97\u001b[0m                 \u001b[0;31m# Compute saliency map\u001b[0m\u001b[0;34m\u001b[0m\u001b[0;34m\u001b[0m\u001b[0m\n\u001b[0;32m---> 98\u001b[0;31m                 \u001b[0mfeat1\u001b[0m\u001b[0;34m,\u001b[0m \u001b[0mfeat2\u001b[0m \u001b[0;34m=\u001b[0m \u001b[0mself\u001b[0m\u001b[0;34m.\u001b[0m\u001b[0m_saliency_map\u001b[0m\u001b[0;34m(\u001b[0m\u001b[0mnp\u001b[0m\u001b[0;34m.\u001b[0m\u001b[0mreshape\u001b[0m\u001b[0;34m(\u001b[0m\u001b[0mval\u001b[0m\u001b[0;34m,\u001b[0m \u001b[0mdims\u001b[0m\u001b[0;34m)\u001b[0m\u001b[0;34m,\u001b[0m \u001b[0mtarget\u001b[0m\u001b[0;34m,\u001b[0m \u001b[0msearch_space\u001b[0m\u001b[0;34m)\u001b[0m\u001b[0;34m\u001b[0m\u001b[0m\n\u001b[0m\u001b[1;32m     99\u001b[0m \u001b[0;34m\u001b[0m\u001b[0m\n\u001b[1;32m    100\u001b[0m                 \u001b[0;31m# Move on to next examples if there are no more features to change\u001b[0m\u001b[0;34m\u001b[0m\u001b[0;34m\u001b[0m\u001b[0m\n",
      "\u001b[0;32m/usr/local/lib/python3.6/site-packages/art/attacks/saliency_map.py\u001b[0m in \u001b[0;36m_saliency_map\u001b[0;34m(self, x, target, search_space)\u001b[0m\n\u001b[1;32m    156\u001b[0m         \u001b[0;34m:\u001b[0m\u001b[0mrtype\u001b[0m\u001b[0;34m:\u001b[0m\u001b[0;31m \u001b[0m\u001b[0;31m`\u001b[0m\u001b[0mtuple\u001b[0m\u001b[0;31m`\u001b[0m\u001b[0;34m\u001b[0m\u001b[0m\n\u001b[1;32m    157\u001b[0m         \"\"\"\n\u001b[0;32m--> 158\u001b[0;31m         \u001b[0mgrads\u001b[0m \u001b[0;34m=\u001b[0m \u001b[0mself\u001b[0m\u001b[0;34m.\u001b[0m\u001b[0mclassifier\u001b[0m\u001b[0;34m.\u001b[0m\u001b[0mclass_gradient\u001b[0m\u001b[0;34m(\u001b[0m\u001b[0mx\u001b[0m\u001b[0;34m,\u001b[0m \u001b[0mlabel\u001b[0m\u001b[0;34m=\u001b[0m\u001b[0mtarget\u001b[0m\u001b[0;34m,\u001b[0m \u001b[0mlogits\u001b[0m\u001b[0;34m=\u001b[0m\u001b[0;32mFalse\u001b[0m\u001b[0;34m)\u001b[0m\u001b[0;34m\u001b[0m\u001b[0m\n\u001b[0m\u001b[1;32m    159\u001b[0m         \u001b[0mgrads\u001b[0m \u001b[0;34m=\u001b[0m \u001b[0mnp\u001b[0m\u001b[0;34m.\u001b[0m\u001b[0mreshape\u001b[0m\u001b[0;34m(\u001b[0m\u001b[0mgrads\u001b[0m\u001b[0;34m,\u001b[0m \u001b[0;34m(\u001b[0m\u001b[0;34m-\u001b[0m\u001b[0;36m1\u001b[0m\u001b[0;34m,\u001b[0m \u001b[0mself\u001b[0m\u001b[0;34m.\u001b[0m\u001b[0m_nb_features\u001b[0m\u001b[0;34m)\u001b[0m\u001b[0;34m)\u001b[0m\u001b[0;34m[\u001b[0m\u001b[0;36m0\u001b[0m\u001b[0;34m]\u001b[0m\u001b[0;34m\u001b[0m\u001b[0m\n\u001b[1;32m    160\u001b[0m \u001b[0;34m\u001b[0m\u001b[0m\n",
      "\u001b[0;32m/usr/local/lib/python3.6/site-packages/art/classifiers/keras.py\u001b[0m in \u001b[0;36mclass_gradient\u001b[0;34m(self, x, label, logits)\u001b[0m\n\u001b[1;32m    132\u001b[0m                 \u001b[0mgrads\u001b[0m \u001b[0;34m=\u001b[0m \u001b[0mnp\u001b[0m\u001b[0;34m.\u001b[0m\u001b[0mswapaxes\u001b[0m\u001b[0;34m(\u001b[0m\u001b[0mnp\u001b[0m\u001b[0;34m.\u001b[0m\u001b[0marray\u001b[0m\u001b[0;34m(\u001b[0m\u001b[0mself\u001b[0m\u001b[0;34m.\u001b[0m\u001b[0m_class_grads_logits_idx\u001b[0m\u001b[0;34m[\u001b[0m\u001b[0mlabel\u001b[0m\u001b[0;34m]\u001b[0m\u001b[0;34m(\u001b[0m\u001b[0;34m[\u001b[0m\u001b[0mx_\u001b[0m\u001b[0;34m]\u001b[0m\u001b[0;34m)\u001b[0m\u001b[0;34m)\u001b[0m\u001b[0;34m,\u001b[0m \u001b[0;36m0\u001b[0m\u001b[0;34m,\u001b[0m \u001b[0;36m1\u001b[0m\u001b[0;34m)\u001b[0m\u001b[0;34m\u001b[0m\u001b[0m\n\u001b[1;32m    133\u001b[0m             \u001b[0;32melse\u001b[0m\u001b[0;34m:\u001b[0m\u001b[0;34m\u001b[0m\u001b[0m\n\u001b[0;32m--> 134\u001b[0;31m                 \u001b[0mgrads\u001b[0m \u001b[0;34m=\u001b[0m \u001b[0mnp\u001b[0m\u001b[0;34m.\u001b[0m\u001b[0mswapaxes\u001b[0m\u001b[0;34m(\u001b[0m\u001b[0mnp\u001b[0m\u001b[0;34m.\u001b[0m\u001b[0marray\u001b[0m\u001b[0;34m(\u001b[0m\u001b[0mself\u001b[0m\u001b[0;34m.\u001b[0m\u001b[0m_class_grads_idx\u001b[0m\u001b[0;34m[\u001b[0m\u001b[0mlabel\u001b[0m\u001b[0;34m]\u001b[0m\u001b[0;34m(\u001b[0m\u001b[0;34m[\u001b[0m\u001b[0mx_\u001b[0m\u001b[0;34m]\u001b[0m\u001b[0;34m)\u001b[0m\u001b[0;34m)\u001b[0m\u001b[0;34m,\u001b[0m \u001b[0;36m0\u001b[0m\u001b[0;34m,\u001b[0m \u001b[0;36m1\u001b[0m\u001b[0;34m)\u001b[0m\u001b[0;34m\u001b[0m\u001b[0m\n\u001b[0m\u001b[1;32m    135\u001b[0m \u001b[0;34m\u001b[0m\u001b[0m\n\u001b[1;32m    136\u001b[0m             \u001b[0mgrads\u001b[0m \u001b[0;34m=\u001b[0m \u001b[0mself\u001b[0m\u001b[0;34m.\u001b[0m\u001b[0m_apply_processing_gradient\u001b[0m\u001b[0;34m(\u001b[0m\u001b[0mgrads\u001b[0m\u001b[0;34m)\u001b[0m\u001b[0;34m\u001b[0m\u001b[0m\n",
      "\u001b[0;32m/usr/local/lib/python3.6/site-packages/keras/backend/tensorflow_backend.py\u001b[0m in \u001b[0;36m__call__\u001b[0;34m(self, inputs)\u001b[0m\n\u001b[1;32m   2670\u001b[0m                     \u001b[0;34m'In order to feed symbolic tensors to a Keras model '\u001b[0m\u001b[0;34m\u001b[0m\u001b[0m\n\u001b[1;32m   2671\u001b[0m                     'in TensorFlow, you need tensorflow 1.8 or higher.')\n\u001b[0;32m-> 2672\u001b[0;31m             \u001b[0;32mreturn\u001b[0m \u001b[0mself\u001b[0m\u001b[0;34m.\u001b[0m\u001b[0m_legacy_call\u001b[0m\u001b[0;34m(\u001b[0m\u001b[0minputs\u001b[0m\u001b[0;34m)\u001b[0m\u001b[0;34m\u001b[0m\u001b[0m\n\u001b[0m\u001b[1;32m   2673\u001b[0m \u001b[0;34m\u001b[0m\u001b[0m\n\u001b[1;32m   2674\u001b[0m \u001b[0;34m\u001b[0m\u001b[0m\n",
      "\u001b[0;32m/usr/local/lib/python3.6/site-packages/keras/backend/tensorflow_backend.py\u001b[0m in \u001b[0;36m_legacy_call\u001b[0;34m(self, inputs)\u001b[0m\n\u001b[1;32m   2652\u001b[0m         \u001b[0msession\u001b[0m \u001b[0;34m=\u001b[0m \u001b[0mget_session\u001b[0m\u001b[0;34m(\u001b[0m\u001b[0;34m)\u001b[0m\u001b[0;34m\u001b[0m\u001b[0m\n\u001b[1;32m   2653\u001b[0m         updated = session.run(fetches=fetches, feed_dict=feed_dict,\n\u001b[0;32m-> 2654\u001b[0;31m                               **self.session_kwargs)\n\u001b[0m\u001b[1;32m   2655\u001b[0m         \u001b[0;32mreturn\u001b[0m \u001b[0mupdated\u001b[0m\u001b[0;34m[\u001b[0m\u001b[0;34m:\u001b[0m\u001b[0mlen\u001b[0m\u001b[0;34m(\u001b[0m\u001b[0mself\u001b[0m\u001b[0;34m.\u001b[0m\u001b[0moutputs\u001b[0m\u001b[0;34m)\u001b[0m\u001b[0;34m]\u001b[0m\u001b[0;34m\u001b[0m\u001b[0m\n\u001b[1;32m   2656\u001b[0m \u001b[0;34m\u001b[0m\u001b[0m\n",
      "\u001b[0;32m/usr/local/lib/python3.6/site-packages/tensorflow/python/client/session.py\u001b[0m in \u001b[0;36mrun\u001b[0;34m(self, fetches, feed_dict, options, run_metadata)\u001b[0m\n\u001b[1;32m    903\u001b[0m     \u001b[0;32mtry\u001b[0m\u001b[0;34m:\u001b[0m\u001b[0;34m\u001b[0m\u001b[0m\n\u001b[1;32m    904\u001b[0m       result = self._run(None, fetches, feed_dict, options_ptr,\n\u001b[0;32m--> 905\u001b[0;31m                          run_metadata_ptr)\n\u001b[0m\u001b[1;32m    906\u001b[0m       \u001b[0;32mif\u001b[0m \u001b[0mrun_metadata\u001b[0m\u001b[0;34m:\u001b[0m\u001b[0;34m\u001b[0m\u001b[0m\n\u001b[1;32m    907\u001b[0m         \u001b[0mproto_data\u001b[0m \u001b[0;34m=\u001b[0m \u001b[0mtf_session\u001b[0m\u001b[0;34m.\u001b[0m\u001b[0mTF_GetBuffer\u001b[0m\u001b[0;34m(\u001b[0m\u001b[0mrun_metadata_ptr\u001b[0m\u001b[0;34m)\u001b[0m\u001b[0;34m\u001b[0m\u001b[0m\n",
      "\u001b[0;32m/usr/local/lib/python3.6/site-packages/tensorflow/python/client/session.py\u001b[0m in \u001b[0;36m_run\u001b[0;34m(self, handle, fetches, feed_dict, options, run_metadata)\u001b[0m\n\u001b[1;32m   1135\u001b[0m     \u001b[0;32mif\u001b[0m \u001b[0mfinal_fetches\u001b[0m \u001b[0;32mor\u001b[0m \u001b[0mfinal_targets\u001b[0m \u001b[0;32mor\u001b[0m \u001b[0;34m(\u001b[0m\u001b[0mhandle\u001b[0m \u001b[0;32mand\u001b[0m \u001b[0mfeed_dict_tensor\u001b[0m\u001b[0;34m)\u001b[0m\u001b[0;34m:\u001b[0m\u001b[0;34m\u001b[0m\u001b[0m\n\u001b[1;32m   1136\u001b[0m       results = self._do_run(handle, final_targets, final_fetches,\n\u001b[0;32m-> 1137\u001b[0;31m                              feed_dict_tensor, options, run_metadata)\n\u001b[0m\u001b[1;32m   1138\u001b[0m     \u001b[0;32melse\u001b[0m\u001b[0;34m:\u001b[0m\u001b[0;34m\u001b[0m\u001b[0m\n\u001b[1;32m   1139\u001b[0m       \u001b[0mresults\u001b[0m \u001b[0;34m=\u001b[0m \u001b[0;34m[\u001b[0m\u001b[0;34m]\u001b[0m\u001b[0;34m\u001b[0m\u001b[0m\n",
      "\u001b[0;32m/usr/local/lib/python3.6/site-packages/tensorflow/python/client/session.py\u001b[0m in \u001b[0;36m_do_run\u001b[0;34m(self, handle, target_list, fetch_list, feed_dict, options, run_metadata)\u001b[0m\n\u001b[1;32m   1353\u001b[0m     \u001b[0;32mif\u001b[0m \u001b[0mhandle\u001b[0m \u001b[0;32mis\u001b[0m \u001b[0;32mNone\u001b[0m\u001b[0;34m:\u001b[0m\u001b[0;34m\u001b[0m\u001b[0m\n\u001b[1;32m   1354\u001b[0m       return self._do_call(_run_fn, self._session, feeds, fetches, targets,\n\u001b[0;32m-> 1355\u001b[0;31m                            options, run_metadata)\n\u001b[0m\u001b[1;32m   1356\u001b[0m     \u001b[0;32melse\u001b[0m\u001b[0;34m:\u001b[0m\u001b[0;34m\u001b[0m\u001b[0m\n\u001b[1;32m   1357\u001b[0m       \u001b[0;32mreturn\u001b[0m \u001b[0mself\u001b[0m\u001b[0;34m.\u001b[0m\u001b[0m_do_call\u001b[0m\u001b[0;34m(\u001b[0m\u001b[0m_prun_fn\u001b[0m\u001b[0;34m,\u001b[0m \u001b[0mself\u001b[0m\u001b[0;34m.\u001b[0m\u001b[0m_session\u001b[0m\u001b[0;34m,\u001b[0m \u001b[0mhandle\u001b[0m\u001b[0;34m,\u001b[0m \u001b[0mfeeds\u001b[0m\u001b[0;34m,\u001b[0m \u001b[0mfetches\u001b[0m\u001b[0;34m)\u001b[0m\u001b[0;34m\u001b[0m\u001b[0m\n",
      "\u001b[0;32m/usr/local/lib/python3.6/site-packages/tensorflow/python/client/session.py\u001b[0m in \u001b[0;36m_do_call\u001b[0;34m(self, fn, *args)\u001b[0m\n\u001b[1;32m   1359\u001b[0m   \u001b[0;32mdef\u001b[0m \u001b[0m_do_call\u001b[0m\u001b[0;34m(\u001b[0m\u001b[0mself\u001b[0m\u001b[0;34m,\u001b[0m \u001b[0mfn\u001b[0m\u001b[0;34m,\u001b[0m \u001b[0;34m*\u001b[0m\u001b[0margs\u001b[0m\u001b[0;34m)\u001b[0m\u001b[0;34m:\u001b[0m\u001b[0;34m\u001b[0m\u001b[0m\n\u001b[1;32m   1360\u001b[0m     \u001b[0;32mtry\u001b[0m\u001b[0;34m:\u001b[0m\u001b[0;34m\u001b[0m\u001b[0m\n\u001b[0;32m-> 1361\u001b[0;31m       \u001b[0;32mreturn\u001b[0m \u001b[0mfn\u001b[0m\u001b[0;34m(\u001b[0m\u001b[0;34m*\u001b[0m\u001b[0margs\u001b[0m\u001b[0;34m)\u001b[0m\u001b[0;34m\u001b[0m\u001b[0m\n\u001b[0m\u001b[1;32m   1362\u001b[0m     \u001b[0;32mexcept\u001b[0m \u001b[0merrors\u001b[0m\u001b[0;34m.\u001b[0m\u001b[0mOpError\u001b[0m \u001b[0;32mas\u001b[0m \u001b[0me\u001b[0m\u001b[0;34m:\u001b[0m\u001b[0;34m\u001b[0m\u001b[0m\n\u001b[1;32m   1363\u001b[0m       \u001b[0mmessage\u001b[0m \u001b[0;34m=\u001b[0m \u001b[0mcompat\u001b[0m\u001b[0;34m.\u001b[0m\u001b[0mas_text\u001b[0m\u001b[0;34m(\u001b[0m\u001b[0me\u001b[0m\u001b[0;34m.\u001b[0m\u001b[0mmessage\u001b[0m\u001b[0;34m)\u001b[0m\u001b[0;34m\u001b[0m\u001b[0m\n",
      "\u001b[0;32m/usr/local/lib/python3.6/site-packages/tensorflow/python/client/session.py\u001b[0m in \u001b[0;36m_run_fn\u001b[0;34m(session, feed_dict, fetch_list, target_list, options, run_metadata)\u001b[0m\n\u001b[1;32m   1330\u001b[0m                 run_metadata):\n\u001b[1;32m   1331\u001b[0m       \u001b[0;31m# Ensure any changes to the graph are reflected in the runtime.\u001b[0m\u001b[0;34m\u001b[0m\u001b[0;34m\u001b[0m\u001b[0m\n\u001b[0;32m-> 1332\u001b[0;31m       \u001b[0mself\u001b[0m\u001b[0;34m.\u001b[0m\u001b[0m_extend_graph\u001b[0m\u001b[0;34m(\u001b[0m\u001b[0;34m)\u001b[0m\u001b[0;34m\u001b[0m\u001b[0m\n\u001b[0m\u001b[1;32m   1333\u001b[0m       \u001b[0;32mwith\u001b[0m \u001b[0merrors\u001b[0m\u001b[0;34m.\u001b[0m\u001b[0mraise_exception_on_not_ok_status\u001b[0m\u001b[0;34m(\u001b[0m\u001b[0;34m)\u001b[0m \u001b[0;32mas\u001b[0m \u001b[0mstatus\u001b[0m\u001b[0;34m:\u001b[0m\u001b[0;34m\u001b[0m\u001b[0m\n\u001b[1;32m   1334\u001b[0m         \u001b[0;32mif\u001b[0m \u001b[0mself\u001b[0m\u001b[0;34m.\u001b[0m\u001b[0m_created_with_new_api\u001b[0m\u001b[0;34m:\u001b[0m\u001b[0;34m\u001b[0m\u001b[0m\n",
      "\u001b[0;32m/usr/local/lib/python3.6/site-packages/tensorflow/python/client/session.py\u001b[0m in \u001b[0;36m_extend_graph\u001b[0;34m(self)\u001b[0m\n\u001b[1;32m   1385\u001b[0m         \u001b[0;31m# pylint: disable=protected-access\u001b[0m\u001b[0;34m\u001b[0m\u001b[0;34m\u001b[0m\u001b[0m\n\u001b[1;32m   1386\u001b[0m         graph_def, self._current_version = self._graph._as_graph_def(\n\u001b[0;32m-> 1387\u001b[0;31m             from_version=self._current_version, add_shapes=self._add_shapes)\n\u001b[0m\u001b[1;32m   1388\u001b[0m         \u001b[0;31m# pylint: enable=protected-access\u001b[0m\u001b[0;34m\u001b[0m\u001b[0;34m\u001b[0m\u001b[0m\n\u001b[1;32m   1389\u001b[0m \u001b[0;34m\u001b[0m\u001b[0m\n",
      "\u001b[0;32m/usr/local/lib/python3.6/site-packages/tensorflow/python/framework/ops.py\u001b[0m in \u001b[0;36m_as_graph_def\u001b[0;34m(self, from_version, add_shapes)\u001b[0m\n\u001b[1;32m   3068\u001b[0m         \u001b[0;32mfor\u001b[0m \u001b[0mop_id\u001b[0m \u001b[0;32min\u001b[0m \u001b[0msorted\u001b[0m\u001b[0;34m(\u001b[0m\u001b[0mself\u001b[0m\u001b[0;34m.\u001b[0m\u001b[0m_nodes_by_id\u001b[0m\u001b[0;34m)\u001b[0m\u001b[0;34m:\u001b[0m\u001b[0;34m\u001b[0m\u001b[0m\n\u001b[1;32m   3069\u001b[0m           \u001b[0mop\u001b[0m \u001b[0;34m=\u001b[0m \u001b[0mself\u001b[0m\u001b[0;34m.\u001b[0m\u001b[0m_nodes_by_id\u001b[0m\u001b[0;34m[\u001b[0m\u001b[0mop_id\u001b[0m\u001b[0;34m]\u001b[0m\u001b[0;34m\u001b[0m\u001b[0m\n\u001b[0;32m-> 3070\u001b[0;31m           \u001b[0;32mif\u001b[0m \u001b[0mfrom_version\u001b[0m \u001b[0;32mis\u001b[0m \u001b[0;32mNone\u001b[0m \u001b[0;32mor\u001b[0m \u001b[0mop_id\u001b[0m \u001b[0;34m>\u001b[0m \u001b[0mfrom_version\u001b[0m\u001b[0;34m:\u001b[0m\u001b[0;34m\u001b[0m\u001b[0m\n\u001b[0m\u001b[1;32m   3071\u001b[0m             \u001b[0mgraph\u001b[0m\u001b[0;34m.\u001b[0m\u001b[0mnode\u001b[0m\u001b[0;34m.\u001b[0m\u001b[0mextend\u001b[0m\u001b[0;34m(\u001b[0m\u001b[0;34m[\u001b[0m\u001b[0mop\u001b[0m\u001b[0;34m.\u001b[0m\u001b[0mnode_def\u001b[0m\u001b[0;34m]\u001b[0m\u001b[0;34m)\u001b[0m\u001b[0;34m\u001b[0m\u001b[0m\n\u001b[1;32m   3072\u001b[0m             \u001b[0;32mif\u001b[0m \u001b[0mop\u001b[0m\u001b[0;34m.\u001b[0m\u001b[0moutputs\u001b[0m \u001b[0;32mand\u001b[0m \u001b[0madd_shapes\u001b[0m\u001b[0;34m:\u001b[0m\u001b[0;34m\u001b[0m\u001b[0m\n",
      "\u001b[0;31mKeyboardInterrupt\u001b[0m: "
     ]
    }
   ],
   "source": [
    "%time adv_test['JSMA'], adv_train['JSMA'] = atk_JSMA(x_train, x_test, y_train, y_test, classifier, baseline_file)\n",
    "np.save('adv_test_JSMA', adv_test['JSMA'])\n",
    "np.save('adv_train_JSMA', adv_train['JSMA'])"
   ]
  },
  {
   "cell_type": "markdown",
   "metadata": {},
   "source": [
    "### Carlini (L2)\n",
    "Slow but considered one of the best iterative attacks."
   ]
  },
  {
   "cell_type": "code",
   "execution_count": 55,
   "metadata": {
    "collapsed": true
   },
   "outputs": [
    {
     "ename": "KeyboardInterrupt",
     "evalue": "",
     "output_type": "error",
     "traceback": [
      "\u001b[0;31m---------------------------------------------------------------------------\u001b[0m",
      "\u001b[0;31mKeyboardInterrupt\u001b[0m                         Traceback (most recent call last)",
      "\u001b[0;32m<timed exec>\u001b[0m in \u001b[0;36m<module>\u001b[0;34m()\u001b[0m\n",
      "\u001b[0;32m<ipython-input-34-ba9b441ad6f6>\u001b[0m in \u001b[0;36matk_CarliniL2\u001b[0;34m(x_train, x_test, y_train, y_test, classifier, file)\u001b[0m\n\u001b[1;32m      3\u001b[0m     \u001b[0madv_crafter\u001b[0m \u001b[0;34m=\u001b[0m \u001b[0mCarliniL2Method\u001b[0m\u001b[0;34m(\u001b[0m\u001b[0mclassifier\u001b[0m\u001b[0;34m,\u001b[0m \u001b[0mtargeted\u001b[0m\u001b[0;34m=\u001b[0m\u001b[0;32mTrue\u001b[0m\u001b[0;34m,\u001b[0m \u001b[0mmax_iter\u001b[0m\u001b[0;34m=\u001b[0m\u001b[0;36m10\u001b[0m\u001b[0;34m,\u001b[0m \u001b[0mbinary_search_steps\u001b[0m\u001b[0;34m=\u001b[0m\u001b[0;36m1\u001b[0m\u001b[0;34m,\u001b[0m \u001b[0mlearning_rate\u001b[0m\u001b[0;34m=\u001b[0m\u001b[0;36m1\u001b[0m\u001b[0;34m,\u001b[0m \u001b[0minitial_const\u001b[0m\u001b[0;34m=\u001b[0m\u001b[0;36m10\u001b[0m\u001b[0;34m,\u001b[0m \u001b[0mdecay\u001b[0m\u001b[0;34m=\u001b[0m\u001b[0;36m0\u001b[0m\u001b[0;34m)\u001b[0m\u001b[0;34m\u001b[0m\u001b[0m\n\u001b[1;32m      4\u001b[0m     \u001b[0mparams\u001b[0m \u001b[0;34m=\u001b[0m \u001b[0;34m{\u001b[0m\u001b[0;34m'y'\u001b[0m\u001b[0;34m:\u001b[0m \u001b[0mrandom_targets\u001b[0m\u001b[0;34m(\u001b[0m\u001b[0my_test\u001b[0m\u001b[0;34m,\u001b[0m \u001b[0mclassifier\u001b[0m\u001b[0;34m.\u001b[0m\u001b[0mnb_classes\u001b[0m\u001b[0;34m)\u001b[0m\u001b[0;34m}\u001b[0m\u001b[0;34m\u001b[0m\u001b[0m\n\u001b[0;32m----> 5\u001b[0;31m     \u001b[0mx_train_adv\u001b[0m \u001b[0;34m=\u001b[0m \u001b[0madv_crafter\u001b[0m\u001b[0;34m.\u001b[0m\u001b[0mgenerate\u001b[0m\u001b[0;34m(\u001b[0m\u001b[0mx_train\u001b[0m\u001b[0;34m,\u001b[0m \u001b[0;34m**\u001b[0m\u001b[0mparams\u001b[0m\u001b[0;34m)\u001b[0m\u001b[0;34m\u001b[0m\u001b[0m\n\u001b[0m\u001b[1;32m      6\u001b[0m     \u001b[0mx_test_adv\u001b[0m \u001b[0;34m=\u001b[0m \u001b[0madv_crafter\u001b[0m\u001b[0;34m.\u001b[0m\u001b[0mgenerate\u001b[0m\u001b[0;34m(\u001b[0m\u001b[0mx_test\u001b[0m\u001b[0;34m,\u001b[0m \u001b[0;34m**\u001b[0m\u001b[0mparams\u001b[0m\u001b[0;34m)\u001b[0m\u001b[0;34m\u001b[0m\u001b[0m\n\u001b[1;32m      7\u001b[0m \u001b[0;34m\u001b[0m\u001b[0m\n",
      "\u001b[0;32m/usr/local/lib/python3.6/site-packages/art/attacks/carlini.py\u001b[0m in \u001b[0;36mgenerate\u001b[0;34m(self, x, **kwargs)\u001b[0m\n\u001b[1;32m    183\u001b[0m \u001b[0;34m\u001b[0m\u001b[0m\n\u001b[1;32m    184\u001b[0m                         \u001b[0mgrad_l2p\u001b[0m \u001b[0;34m=\u001b[0m \u001b[0mself\u001b[0m\u001b[0;34m.\u001b[0m\u001b[0mclassifier\u001b[0m\u001b[0;34m.\u001b[0m\u001b[0mclass_gradient\u001b[0m\u001b[0;34m(\u001b[0m\u001b[0mnp\u001b[0m\u001b[0;34m.\u001b[0m\u001b[0marray\u001b[0m\u001b[0;34m(\u001b[0m\u001b[0;34m[\u001b[0m\u001b[0madv_image\u001b[0m\u001b[0;34m]\u001b[0m\u001b[0;34m)\u001b[0m\u001b[0;34m,\u001b[0m \u001b[0mlabel\u001b[0m\u001b[0;34m=\u001b[0m\u001b[0mi_add\u001b[0m\u001b[0;34m,\u001b[0m \u001b[0mlogits\u001b[0m\u001b[0;34m=\u001b[0m\u001b[0;32mTrue\u001b[0m\u001b[0;34m)\u001b[0m\u001b[0;34m[\u001b[0m\u001b[0;36m0\u001b[0m\u001b[0;34m]\u001b[0m\u001b[0;34m\u001b[0m\u001b[0m\n\u001b[0;32m--> 185\u001b[0;31m                         \u001b[0mgrad_l2p\u001b[0m \u001b[0;34m-=\u001b[0m \u001b[0mself\u001b[0m\u001b[0;34m.\u001b[0m\u001b[0mclassifier\u001b[0m\u001b[0;34m.\u001b[0m\u001b[0mclass_gradient\u001b[0m\u001b[0;34m(\u001b[0m\u001b[0mnp\u001b[0m\u001b[0;34m.\u001b[0m\u001b[0marray\u001b[0m\u001b[0;34m(\u001b[0m\u001b[0;34m[\u001b[0m\u001b[0madv_image\u001b[0m\u001b[0;34m]\u001b[0m\u001b[0;34m)\u001b[0m\u001b[0;34m,\u001b[0m \u001b[0mlabel\u001b[0m\u001b[0;34m=\u001b[0m\u001b[0mi_sub\u001b[0m\u001b[0;34m,\u001b[0m \u001b[0mlogits\u001b[0m\u001b[0;34m=\u001b[0m\u001b[0;32mTrue\u001b[0m\u001b[0;34m)\u001b[0m\u001b[0;34m[\u001b[0m\u001b[0;36m0\u001b[0m\u001b[0;34m]\u001b[0m\u001b[0;34m\u001b[0m\u001b[0m\n\u001b[0m\u001b[1;32m    186\u001b[0m                         \u001b[0mgrad_l2p\u001b[0m \u001b[0;34m*=\u001b[0m \u001b[0mc\u001b[0m\u001b[0;34m\u001b[0m\u001b[0m\n\u001b[1;32m    187\u001b[0m                         \u001b[0mgrad_l2p\u001b[0m \u001b[0;34m+=\u001b[0m \u001b[0;36m2\u001b[0m \u001b[0;34m*\u001b[0m \u001b[0;34m(\u001b[0m\u001b[0madv_image\u001b[0m \u001b[0;34m-\u001b[0m \u001b[0mimage\u001b[0m\u001b[0;34m)\u001b[0m\u001b[0;34m\u001b[0m\u001b[0m\n",
      "\u001b[0;32m/usr/local/lib/python3.6/site-packages/art/classifiers/keras.py\u001b[0m in \u001b[0;36mclass_gradient\u001b[0;34m(self, x, label, logits)\u001b[0m\n\u001b[1;32m    134\u001b[0m                 \u001b[0mgrads\u001b[0m \u001b[0;34m=\u001b[0m \u001b[0mnp\u001b[0m\u001b[0;34m.\u001b[0m\u001b[0mswapaxes\u001b[0m\u001b[0;34m(\u001b[0m\u001b[0mnp\u001b[0m\u001b[0;34m.\u001b[0m\u001b[0marray\u001b[0m\u001b[0;34m(\u001b[0m\u001b[0mself\u001b[0m\u001b[0;34m.\u001b[0m\u001b[0m_class_grads_idx\u001b[0m\u001b[0;34m[\u001b[0m\u001b[0mlabel\u001b[0m\u001b[0;34m]\u001b[0m\u001b[0;34m(\u001b[0m\u001b[0;34m[\u001b[0m\u001b[0mx_\u001b[0m\u001b[0;34m]\u001b[0m\u001b[0;34m)\u001b[0m\u001b[0;34m)\u001b[0m\u001b[0;34m,\u001b[0m \u001b[0;36m0\u001b[0m\u001b[0;34m,\u001b[0m \u001b[0;36m1\u001b[0m\u001b[0;34m)\u001b[0m\u001b[0;34m\u001b[0m\u001b[0m\n\u001b[1;32m    135\u001b[0m \u001b[0;34m\u001b[0m\u001b[0m\n\u001b[0;32m--> 136\u001b[0;31m             \u001b[0mgrads\u001b[0m \u001b[0;34m=\u001b[0m \u001b[0mself\u001b[0m\u001b[0;34m.\u001b[0m\u001b[0m_apply_processing_gradient\u001b[0m\u001b[0;34m(\u001b[0m\u001b[0mgrads\u001b[0m\u001b[0;34m)\u001b[0m\u001b[0;34m\u001b[0m\u001b[0m\n\u001b[0m\u001b[1;32m    137\u001b[0m             \u001b[0;32massert\u001b[0m \u001b[0mgrads\u001b[0m\u001b[0;34m.\u001b[0m\u001b[0mshape\u001b[0m \u001b[0;34m==\u001b[0m \u001b[0;34m(\u001b[0m\u001b[0mx_\u001b[0m\u001b[0;34m.\u001b[0m\u001b[0mshape\u001b[0m\u001b[0;34m[\u001b[0m\u001b[0;36m0\u001b[0m\u001b[0;34m]\u001b[0m\u001b[0;34m,\u001b[0m \u001b[0;36m1\u001b[0m\u001b[0;34m)\u001b[0m \u001b[0;34m+\u001b[0m \u001b[0mself\u001b[0m\u001b[0;34m.\u001b[0m\u001b[0minput_shape\u001b[0m\u001b[0;34m\u001b[0m\u001b[0m\n\u001b[1;32m    138\u001b[0m         \u001b[0;32melse\u001b[0m\u001b[0;34m:\u001b[0m\u001b[0;34m\u001b[0m\u001b[0m\n",
      "\u001b[0;32m/usr/local/lib/python3.6/site-packages/art/classifiers/classifier.py\u001b[0m in \u001b[0;36m_apply_processing_gradient\u001b[0;34m(self, grad)\u001b[0m\n\u001b[1;32m    257\u001b[0m \u001b[0;34m\u001b[0m\u001b[0m\n\u001b[1;32m    258\u001b[0m         \u001b[0m_\u001b[0m\u001b[0;34m,\u001b[0m \u001b[0mdiv\u001b[0m \u001b[0;34m=\u001b[0m \u001b[0mself\u001b[0m\u001b[0;34m.\u001b[0m\u001b[0m_preprocessing\u001b[0m\u001b[0;34m\u001b[0m\u001b[0m\n\u001b[0;32m--> 259\u001b[0;31m         \u001b[0mdiv\u001b[0m \u001b[0;34m=\u001b[0m \u001b[0mnp\u001b[0m\u001b[0;34m.\u001b[0m\u001b[0masarray\u001b[0m\u001b[0;34m(\u001b[0m\u001b[0mdiv\u001b[0m\u001b[0;34m,\u001b[0m \u001b[0mdtype\u001b[0m\u001b[0;34m=\u001b[0m\u001b[0mgrad\u001b[0m\u001b[0;34m.\u001b[0m\u001b[0mdtype\u001b[0m\u001b[0;34m)\u001b[0m\u001b[0;34m\u001b[0m\u001b[0m\n\u001b[0m\u001b[1;32m    260\u001b[0m         \u001b[0mres\u001b[0m \u001b[0;34m=\u001b[0m \u001b[0mgrad\u001b[0m \u001b[0;34m/\u001b[0m \u001b[0mdiv\u001b[0m\u001b[0;34m\u001b[0m\u001b[0m\n\u001b[1;32m    261\u001b[0m         \u001b[0;32mreturn\u001b[0m \u001b[0mres\u001b[0m\u001b[0;34m\u001b[0m\u001b[0m\n",
      "\u001b[0;31mKeyboardInterrupt\u001b[0m: "
     ]
    }
   ],
   "source": [
    "%time adv_test['Carlini'], adv_train['Carlini'] = atk_CarliniL2(x_train, x_test, y_train, y_test, classifier, baseline_file)\n",
    "np.save('adv_test_Carlini', adv_test['Carlini'])\n",
    "np.save('adv_train_Carlini', adv_train['Carlini'])"
   ]
  },
  {
   "cell_type": "markdown",
   "metadata": {},
   "source": [
    "### NewtonFool"
   ]
  },
  {
   "cell_type": "code",
   "execution_count": 56,
   "metadata": {
    "collapsed": true
   },
   "outputs": [
    {
     "ename": "SystemError",
     "evalue": "<built-in function IsSequence> returned a result with an error set",
     "output_type": "error",
     "traceback": [
      "\u001b[0;31m---------------------------------------------------------------------------\u001b[0m",
      "\u001b[0;31mKeyboardInterrupt\u001b[0m                         Traceback (most recent call last)",
      "\u001b[0;32m/usr/local/Cellar/python/3.6.5/Frameworks/Python.framework/Versions/3.6/lib/python3.6/abc.py\u001b[0m in \u001b[0;36m__instancecheck__\u001b[0;34m(cls, instance)\u001b[0m\n\u001b[1;32m    183\u001b[0m         \u001b[0msubclass\u001b[0m \u001b[0;34m=\u001b[0m \u001b[0minstance\u001b[0m\u001b[0;34m.\u001b[0m\u001b[0m__class__\u001b[0m\u001b[0;34m\u001b[0m\u001b[0m\n\u001b[0;32m--> 184\u001b[0;31m         \u001b[0;32mif\u001b[0m \u001b[0msubclass\u001b[0m \u001b[0;32min\u001b[0m \u001b[0mcls\u001b[0m\u001b[0;34m.\u001b[0m\u001b[0m_abc_cache\u001b[0m\u001b[0;34m:\u001b[0m\u001b[0;34m\u001b[0m\u001b[0m\n\u001b[0m\u001b[1;32m    185\u001b[0m             \u001b[0;32mreturn\u001b[0m \u001b[0;32mTrue\u001b[0m\u001b[0;34m\u001b[0m\u001b[0m\n",
      "\u001b[0;32m/usr/local/Cellar/python/3.6.5/Frameworks/Python.framework/Versions/3.6/lib/python3.6/_weakrefset.py\u001b[0m in \u001b[0;36m__contains__\u001b[0;34m(self, item)\u001b[0m\n\u001b[1;32m     69\u001b[0m \u001b[0;34m\u001b[0m\u001b[0m\n\u001b[0;32m---> 70\u001b[0;31m     \u001b[0;32mdef\u001b[0m \u001b[0m__contains__\u001b[0m\u001b[0;34m(\u001b[0m\u001b[0mself\u001b[0m\u001b[0;34m,\u001b[0m \u001b[0mitem\u001b[0m\u001b[0;34m)\u001b[0m\u001b[0;34m:\u001b[0m\u001b[0;34m\u001b[0m\u001b[0m\n\u001b[0m\u001b[1;32m     71\u001b[0m         \u001b[0;32mtry\u001b[0m\u001b[0;34m:\u001b[0m\u001b[0;34m\u001b[0m\u001b[0m\n",
      "\u001b[0;31mKeyboardInterrupt\u001b[0m: ",
      "\nThe above exception was the direct cause of the following exception:\n",
      "\u001b[0;31mSystemError\u001b[0m                               Traceback (most recent call last)",
      "\u001b[0;32m<timed exec>\u001b[0m in \u001b[0;36m<module>\u001b[0;34m()\u001b[0m\n",
      "\u001b[0;32m<ipython-input-35-a3d8c84f5e39>\u001b[0m in \u001b[0;36matk_NewtonFool\u001b[0;34m(x_train, x_test, y_train, y_test, classifier, file)\u001b[0m\n\u001b[1;32m      1\u001b[0m \u001b[0;32mdef\u001b[0m \u001b[0matk_NewtonFool\u001b[0m\u001b[0;34m(\u001b[0m\u001b[0mx_train\u001b[0m\u001b[0;34m,\u001b[0m \u001b[0mx_test\u001b[0m\u001b[0;34m,\u001b[0m \u001b[0my_train\u001b[0m\u001b[0;34m,\u001b[0m \u001b[0my_test\u001b[0m\u001b[0;34m,\u001b[0m \u001b[0mclassifier\u001b[0m\u001b[0;34m,\u001b[0m \u001b[0mfile\u001b[0m\u001b[0;34m)\u001b[0m\u001b[0;34m:\u001b[0m\u001b[0;34m\u001b[0m\u001b[0m\n\u001b[1;32m      2\u001b[0m     \u001b[0madv_crafter\u001b[0m \u001b[0;34m=\u001b[0m \u001b[0mNewtonFool\u001b[0m\u001b[0;34m(\u001b[0m\u001b[0mclassifier\u001b[0m\u001b[0;34m,\u001b[0m \u001b[0mmax_iter\u001b[0m\u001b[0;34m=\u001b[0m\u001b[0;36m20\u001b[0m\u001b[0;34m)\u001b[0m\u001b[0;34m\u001b[0m\u001b[0m\n\u001b[0;32m----> 3\u001b[0;31m     \u001b[0mx_train_adv\u001b[0m \u001b[0;34m=\u001b[0m \u001b[0madv_crafter\u001b[0m\u001b[0;34m.\u001b[0m\u001b[0mgenerate\u001b[0m\u001b[0;34m(\u001b[0m\u001b[0mx_train\u001b[0m\u001b[0;34m)\u001b[0m\u001b[0;34m\u001b[0m\u001b[0m\n\u001b[0m\u001b[1;32m      4\u001b[0m     \u001b[0mx_test_adv\u001b[0m \u001b[0;34m=\u001b[0m \u001b[0madv_crafter\u001b[0m\u001b[0;34m.\u001b[0m\u001b[0mgenerate\u001b[0m\u001b[0;34m(\u001b[0m\u001b[0mx_test\u001b[0m\u001b[0;34m)\u001b[0m\u001b[0;34m\u001b[0m\u001b[0m\n\u001b[1;32m      5\u001b[0m \u001b[0;34m\u001b[0m\u001b[0m\n",
      "\u001b[0;32m/usr/local/lib/python3.6/site-packages/art/attacks/newtonfool.py\u001b[0m in \u001b[0;36mgenerate\u001b[0;34m(self, x, **kwargs)\u001b[0m\n\u001b[1;32m     75\u001b[0m \u001b[0;34m\u001b[0m\u001b[0m\n\u001b[1;32m     76\u001b[0m                 \u001b[0;31m# Compute the gradients and norm\u001b[0m\u001b[0;34m\u001b[0m\u001b[0;34m\u001b[0m\u001b[0m\n\u001b[0;32m---> 77\u001b[0;31m                 \u001b[0mgrads\u001b[0m \u001b[0;34m=\u001b[0m \u001b[0mself\u001b[0m\u001b[0;34m.\u001b[0m\u001b[0mclassifier\u001b[0m\u001b[0;34m.\u001b[0m\u001b[0mclass_gradient\u001b[0m\u001b[0;34m(\u001b[0m\u001b[0mnp\u001b[0m\u001b[0;34m.\u001b[0m\u001b[0marray\u001b[0m\u001b[0;34m(\u001b[0m\u001b[0;34m[\u001b[0m\u001b[0mex\u001b[0m\u001b[0;34m]\u001b[0m\u001b[0;34m)\u001b[0m\u001b[0;34m,\u001b[0m \u001b[0mlogits\u001b[0m\u001b[0;34m=\u001b[0m\u001b[0;32mFalse\u001b[0m\u001b[0;34m)\u001b[0m\u001b[0;34m[\u001b[0m\u001b[0;36m0\u001b[0m\u001b[0;34m]\u001b[0m\u001b[0;34m[\u001b[0m\u001b[0ml\u001b[0m\u001b[0;34m]\u001b[0m\u001b[0;34m\u001b[0m\u001b[0m\n\u001b[0m\u001b[1;32m     78\u001b[0m                 \u001b[0mnorm_grad\u001b[0m \u001b[0;34m=\u001b[0m \u001b[0mnp\u001b[0m\u001b[0;34m.\u001b[0m\u001b[0mlinalg\u001b[0m\u001b[0;34m.\u001b[0m\u001b[0mnorm\u001b[0m\u001b[0;34m(\u001b[0m\u001b[0mnp\u001b[0m\u001b[0;34m.\u001b[0m\u001b[0mreshape\u001b[0m\u001b[0;34m(\u001b[0m\u001b[0mgrads\u001b[0m\u001b[0;34m,\u001b[0m \u001b[0;34m[\u001b[0m\u001b[0;34m-\u001b[0m\u001b[0;36m1\u001b[0m\u001b[0;34m]\u001b[0m\u001b[0;34m)\u001b[0m\u001b[0;34m)\u001b[0m\u001b[0;34m\u001b[0m\u001b[0m\n\u001b[1;32m     79\u001b[0m \u001b[0;34m\u001b[0m\u001b[0m\n",
      "\u001b[0;32m/usr/local/lib/python3.6/site-packages/art/classifiers/keras.py\u001b[0m in \u001b[0;36mclass_gradient\u001b[0;34m(self, x, label, logits)\u001b[0m\n\u001b[1;32m    140\u001b[0m                 \u001b[0mgrads\u001b[0m \u001b[0;34m=\u001b[0m \u001b[0mnp\u001b[0m\u001b[0;34m.\u001b[0m\u001b[0mswapaxes\u001b[0m\u001b[0;34m(\u001b[0m\u001b[0mnp\u001b[0m\u001b[0;34m.\u001b[0m\u001b[0marray\u001b[0m\u001b[0;34m(\u001b[0m\u001b[0mself\u001b[0m\u001b[0;34m.\u001b[0m\u001b[0m_class_grads_logits\u001b[0m\u001b[0;34m(\u001b[0m\u001b[0;34m[\u001b[0m\u001b[0mx_\u001b[0m\u001b[0;34m]\u001b[0m\u001b[0;34m)\u001b[0m\u001b[0;34m)\u001b[0m\u001b[0;34m,\u001b[0m \u001b[0;36m0\u001b[0m\u001b[0;34m,\u001b[0m \u001b[0;36m1\u001b[0m\u001b[0;34m)\u001b[0m\u001b[0;34m\u001b[0m\u001b[0m\n\u001b[1;32m    141\u001b[0m             \u001b[0;32melse\u001b[0m\u001b[0;34m:\u001b[0m\u001b[0;34m\u001b[0m\u001b[0m\n\u001b[0;32m--> 142\u001b[0;31m                 \u001b[0mgrads\u001b[0m \u001b[0;34m=\u001b[0m \u001b[0mnp\u001b[0m\u001b[0;34m.\u001b[0m\u001b[0mswapaxes\u001b[0m\u001b[0;34m(\u001b[0m\u001b[0mnp\u001b[0m\u001b[0;34m.\u001b[0m\u001b[0marray\u001b[0m\u001b[0;34m(\u001b[0m\u001b[0mself\u001b[0m\u001b[0;34m.\u001b[0m\u001b[0m_class_grads\u001b[0m\u001b[0;34m(\u001b[0m\u001b[0;34m[\u001b[0m\u001b[0mx_\u001b[0m\u001b[0;34m]\u001b[0m\u001b[0;34m)\u001b[0m\u001b[0;34m)\u001b[0m\u001b[0;34m,\u001b[0m \u001b[0;36m0\u001b[0m\u001b[0;34m,\u001b[0m \u001b[0;36m1\u001b[0m\u001b[0;34m)\u001b[0m\u001b[0;34m\u001b[0m\u001b[0m\n\u001b[0m\u001b[1;32m    143\u001b[0m \u001b[0;34m\u001b[0m\u001b[0m\n\u001b[1;32m    144\u001b[0m             \u001b[0mgrads\u001b[0m \u001b[0;34m=\u001b[0m \u001b[0mself\u001b[0m\u001b[0;34m.\u001b[0m\u001b[0m_apply_processing_gradient\u001b[0m\u001b[0;34m(\u001b[0m\u001b[0mgrads\u001b[0m\u001b[0;34m)\u001b[0m\u001b[0;34m\u001b[0m\u001b[0m\n",
      "\u001b[0;32m/usr/local/lib/python3.6/site-packages/keras/backend/tensorflow_backend.py\u001b[0m in \u001b[0;36m__call__\u001b[0;34m(self, inputs)\u001b[0m\n\u001b[1;32m   2670\u001b[0m                     \u001b[0;34m'In order to feed symbolic tensors to a Keras model '\u001b[0m\u001b[0;34m\u001b[0m\u001b[0m\n\u001b[1;32m   2671\u001b[0m                     'in TensorFlow, you need tensorflow 1.8 or higher.')\n\u001b[0;32m-> 2672\u001b[0;31m             \u001b[0;32mreturn\u001b[0m \u001b[0mself\u001b[0m\u001b[0;34m.\u001b[0m\u001b[0m_legacy_call\u001b[0m\u001b[0;34m(\u001b[0m\u001b[0minputs\u001b[0m\u001b[0;34m)\u001b[0m\u001b[0;34m\u001b[0m\u001b[0m\n\u001b[0m\u001b[1;32m   2673\u001b[0m \u001b[0;34m\u001b[0m\u001b[0m\n\u001b[1;32m   2674\u001b[0m \u001b[0;34m\u001b[0m\u001b[0m\n",
      "\u001b[0;32m/usr/local/lib/python3.6/site-packages/keras/backend/tensorflow_backend.py\u001b[0m in \u001b[0;36m_legacy_call\u001b[0;34m(self, inputs)\u001b[0m\n\u001b[1;32m   2652\u001b[0m         \u001b[0msession\u001b[0m \u001b[0;34m=\u001b[0m \u001b[0mget_session\u001b[0m\u001b[0;34m(\u001b[0m\u001b[0;34m)\u001b[0m\u001b[0;34m\u001b[0m\u001b[0m\n\u001b[1;32m   2653\u001b[0m         updated = session.run(fetches=fetches, feed_dict=feed_dict,\n\u001b[0;32m-> 2654\u001b[0;31m                               **self.session_kwargs)\n\u001b[0m\u001b[1;32m   2655\u001b[0m         \u001b[0;32mreturn\u001b[0m \u001b[0mupdated\u001b[0m\u001b[0;34m[\u001b[0m\u001b[0;34m:\u001b[0m\u001b[0mlen\u001b[0m\u001b[0;34m(\u001b[0m\u001b[0mself\u001b[0m\u001b[0;34m.\u001b[0m\u001b[0moutputs\u001b[0m\u001b[0;34m)\u001b[0m\u001b[0;34m]\u001b[0m\u001b[0;34m\u001b[0m\u001b[0m\n\u001b[1;32m   2656\u001b[0m \u001b[0;34m\u001b[0m\u001b[0m\n",
      "\u001b[0;32m/usr/local/lib/python3.6/site-packages/tensorflow/python/client/session.py\u001b[0m in \u001b[0;36mrun\u001b[0;34m(self, fetches, feed_dict, options, run_metadata)\u001b[0m\n\u001b[1;32m    903\u001b[0m     \u001b[0;32mtry\u001b[0m\u001b[0;34m:\u001b[0m\u001b[0;34m\u001b[0m\u001b[0m\n\u001b[1;32m    904\u001b[0m       result = self._run(None, fetches, feed_dict, options_ptr,\n\u001b[0;32m--> 905\u001b[0;31m                          run_metadata_ptr)\n\u001b[0m\u001b[1;32m    906\u001b[0m       \u001b[0;32mif\u001b[0m \u001b[0mrun_metadata\u001b[0m\u001b[0;34m:\u001b[0m\u001b[0;34m\u001b[0m\u001b[0m\n\u001b[1;32m    907\u001b[0m         \u001b[0mproto_data\u001b[0m \u001b[0;34m=\u001b[0m \u001b[0mtf_session\u001b[0m\u001b[0;34m.\u001b[0m\u001b[0mTF_GetBuffer\u001b[0m\u001b[0;34m(\u001b[0m\u001b[0mrun_metadata_ptr\u001b[0m\u001b[0;34m)\u001b[0m\u001b[0;34m\u001b[0m\u001b[0m\n",
      "\u001b[0;32m/usr/local/lib/python3.6/site-packages/tensorflow/python/client/session.py\u001b[0m in \u001b[0;36m_run\u001b[0;34m(self, handle, fetches, feed_dict, options, run_metadata)\u001b[0m\n\u001b[1;32m   1073\u001b[0m     \u001b[0mfeed_handles\u001b[0m \u001b[0;34m=\u001b[0m \u001b[0;34m{\u001b[0m\u001b[0;34m}\u001b[0m\u001b[0;34m\u001b[0m\u001b[0m\n\u001b[1;32m   1074\u001b[0m     \u001b[0;32mif\u001b[0m \u001b[0mfeed_dict\u001b[0m\u001b[0;34m:\u001b[0m\u001b[0;34m\u001b[0m\u001b[0m\n\u001b[0;32m-> 1075\u001b[0;31m       \u001b[0mfeed_dict\u001b[0m \u001b[0;34m=\u001b[0m \u001b[0mnest\u001b[0m\u001b[0;34m.\u001b[0m\u001b[0mflatten_dict_items\u001b[0m\u001b[0;34m(\u001b[0m\u001b[0mfeed_dict\u001b[0m\u001b[0;34m)\u001b[0m\u001b[0;34m\u001b[0m\u001b[0m\n\u001b[0m\u001b[1;32m   1076\u001b[0m       \u001b[0;32mfor\u001b[0m \u001b[0mfeed\u001b[0m\u001b[0;34m,\u001b[0m \u001b[0mfeed_val\u001b[0m \u001b[0;32min\u001b[0m \u001b[0mfeed_dict\u001b[0m\u001b[0;34m.\u001b[0m\u001b[0mitems\u001b[0m\u001b[0;34m(\u001b[0m\u001b[0;34m)\u001b[0m\u001b[0;34m:\u001b[0m\u001b[0;34m\u001b[0m\u001b[0m\n\u001b[1;32m   1077\u001b[0m         \u001b[0;32mfor\u001b[0m \u001b[0msubfeed\u001b[0m\u001b[0;34m,\u001b[0m \u001b[0msubfeed_val\u001b[0m \u001b[0;32min\u001b[0m \u001b[0m_feed_fn\u001b[0m\u001b[0;34m(\u001b[0m\u001b[0mfeed\u001b[0m\u001b[0;34m,\u001b[0m \u001b[0mfeed_val\u001b[0m\u001b[0;34m)\u001b[0m\u001b[0;34m:\u001b[0m\u001b[0;34m\u001b[0m\u001b[0m\n",
      "\u001b[0;32m/usr/local/lib/python3.6/site-packages/tensorflow/python/util/nest.py\u001b[0m in \u001b[0;36mflatten_dict_items\u001b[0;34m(dictionary)\u001b[0m\n\u001b[1;32m    302\u001b[0m   \u001b[0mflat_dictionary\u001b[0m \u001b[0;34m=\u001b[0m \u001b[0;34m{\u001b[0m\u001b[0;34m}\u001b[0m\u001b[0;34m\u001b[0m\u001b[0m\n\u001b[1;32m    303\u001b[0m   \u001b[0;32mfor\u001b[0m \u001b[0mi\u001b[0m\u001b[0;34m,\u001b[0m \u001b[0mv\u001b[0m \u001b[0;32min\u001b[0m \u001b[0m_six\u001b[0m\u001b[0;34m.\u001b[0m\u001b[0miteritems\u001b[0m\u001b[0;34m(\u001b[0m\u001b[0mdictionary\u001b[0m\u001b[0;34m)\u001b[0m\u001b[0;34m:\u001b[0m\u001b[0;34m\u001b[0m\u001b[0m\n\u001b[0;32m--> 304\u001b[0;31m     \u001b[0;32mif\u001b[0m \u001b[0;32mnot\u001b[0m \u001b[0mis_sequence\u001b[0m\u001b[0;34m(\u001b[0m\u001b[0mi\u001b[0m\u001b[0;34m)\u001b[0m\u001b[0;34m:\u001b[0m\u001b[0;34m\u001b[0m\u001b[0m\n\u001b[0m\u001b[1;32m    305\u001b[0m       \u001b[0;32mif\u001b[0m \u001b[0mi\u001b[0m \u001b[0;32min\u001b[0m \u001b[0mflat_dictionary\u001b[0m\u001b[0;34m:\u001b[0m\u001b[0;34m\u001b[0m\u001b[0m\n\u001b[1;32m    306\u001b[0m         raise ValueError(\n",
      "\u001b[0;32m/usr/local/lib/python3.6/site-packages/tensorflow/python/util/nest.py\u001b[0m in \u001b[0;36mis_sequence\u001b[0;34m(seq)\u001b[0m\n\u001b[1;32m    122\u001b[0m     \u001b[0mdict\u001b[0m\u001b[0;34m.\u001b[0m\u001b[0;34m\u001b[0m\u001b[0m\n\u001b[1;32m    123\u001b[0m   \"\"\"\n\u001b[0;32m--> 124\u001b[0;31m   \u001b[0;32mreturn\u001b[0m \u001b[0m_pywrap_tensorflow\u001b[0m\u001b[0;34m.\u001b[0m\u001b[0mIsSequence\u001b[0m\u001b[0;34m(\u001b[0m\u001b[0mseq\u001b[0m\u001b[0;34m)\u001b[0m\u001b[0;34m\u001b[0m\u001b[0m\n\u001b[0m\u001b[1;32m    125\u001b[0m \u001b[0;34m\u001b[0m\u001b[0m\n\u001b[1;32m    126\u001b[0m \u001b[0;34m\u001b[0m\u001b[0m\n",
      "\u001b[0;31mSystemError\u001b[0m: <built-in function IsSequence> returned a result with an error set"
     ]
    }
   ],
   "source": [
    "%time adv_test['NewtonFool'], adv_train['NewtonFool'] = atk_NewtonFool(x_train, x_test, y_train, y_test, classifier, baseline_file)\n",
    "np.save('adv_test_NewtonFool', adv_test['NewtonFool'])\n",
    "np.save('adv_train_NewtonFool', adv_train['NewtonFool'])"
   ]
  },
  {
   "cell_type": "markdown",
   "metadata": {},
   "source": [
    "### Universal Perturbation"
   ]
  },
  {
   "cell_type": "code",
   "execution_count": 57,
   "metadata": {
    "collapsed": true
   },
   "outputs": [
    {
     "ename": "KeyboardInterrupt",
     "evalue": "",
     "output_type": "error",
     "traceback": [
      "\u001b[0;31m---------------------------------------------------------------------------\u001b[0m",
      "\u001b[0;31mKeyboardInterrupt\u001b[0m                         Traceback (most recent call last)",
      "\u001b[0;32m<timed exec>\u001b[0m in \u001b[0;36m<module>\u001b[0;34m()\u001b[0m\n",
      "\u001b[0;32m<ipython-input-36-ce2df8bd100a>\u001b[0m in \u001b[0;36matk_UniPerturb\u001b[0;34m(x_train, x_test, y_train, y_test, classifier, file)\u001b[0m\n\u001b[1;32m      2\u001b[0m     \u001b[0mattack_params\u001b[0m \u001b[0;34m=\u001b[0m \u001b[0;34m{\u001b[0m\u001b[0;34m\"attacker\"\u001b[0m\u001b[0;34m:\u001b[0m \u001b[0;34m\"fgsm\"\u001b[0m\u001b[0;34m,\u001b[0m \u001b[0;34m\"attacker_params\"\u001b[0m\u001b[0;34m:\u001b[0m \u001b[0;34m{\u001b[0m\u001b[0;34m\"max_iter\"\u001b[0m\u001b[0;34m:\u001b[0m \u001b[0;36m3\u001b[0m\u001b[0;34m}\u001b[0m\u001b[0;34m}\u001b[0m\u001b[0;34m\u001b[0m\u001b[0m\n\u001b[1;32m      3\u001b[0m     \u001b[0madv_crafter\u001b[0m \u001b[0;34m=\u001b[0m \u001b[0mUniversalPerturbation\u001b[0m\u001b[0;34m(\u001b[0m\u001b[0mclassifier\u001b[0m\u001b[0;34m)\u001b[0m\u001b[0;34m\u001b[0m\u001b[0m\n\u001b[0;32m----> 4\u001b[0;31m     \u001b[0mx_train_adv\u001b[0m \u001b[0;34m=\u001b[0m \u001b[0madv_crafter\u001b[0m\u001b[0;34m.\u001b[0m\u001b[0mgenerate\u001b[0m\u001b[0;34m(\u001b[0m\u001b[0mx_train\u001b[0m\u001b[0;34m,\u001b[0m \u001b[0;34m**\u001b[0m\u001b[0mattack_params\u001b[0m\u001b[0;34m)\u001b[0m\u001b[0;34m\u001b[0m\u001b[0m\n\u001b[0m\u001b[1;32m      5\u001b[0m     \u001b[0mx_test_adv\u001b[0m \u001b[0;34m=\u001b[0m \u001b[0madv_crafter\u001b[0m\u001b[0;34m.\u001b[0m\u001b[0mgenerate\u001b[0m\u001b[0;34m(\u001b[0m\u001b[0mx_test\u001b[0m\u001b[0;34m,\u001b[0m \u001b[0;34m**\u001b[0m\u001b[0mattack_params\u001b[0m\u001b[0;34m)\u001b[0m\u001b[0;34m\u001b[0m\u001b[0m\n\u001b[1;32m      6\u001b[0m \u001b[0;34m\u001b[0m\u001b[0m\n",
      "\u001b[0;32m/usr/local/lib/python3.6/site-packages/art/attacks/universal_perturbation.py\u001b[0m in \u001b[0;36mgenerate\u001b[0;34m(self, x, **kwargs)\u001b[0m\n\u001b[1;32m    114\u001b[0m                 \u001b[0mf_xi\u001b[0m \u001b[0;34m=\u001b[0m \u001b[0mself\u001b[0m\u001b[0;34m.\u001b[0m\u001b[0mclassifier\u001b[0m\u001b[0;34m.\u001b[0m\u001b[0mpredict\u001b[0m\u001b[0;34m(\u001b[0m\u001b[0mxi\u001b[0m \u001b[0;34m+\u001b[0m \u001b[0mv\u001b[0m\u001b[0;34m,\u001b[0m \u001b[0mlogits\u001b[0m\u001b[0;34m=\u001b[0m\u001b[0;32mTrue\u001b[0m\u001b[0;34m)\u001b[0m\u001b[0;34m\u001b[0m\u001b[0m\n\u001b[1;32m    115\u001b[0m                 \u001b[0mfk_i_hat\u001b[0m \u001b[0;34m=\u001b[0m \u001b[0mnp\u001b[0m\u001b[0;34m.\u001b[0m\u001b[0margmax\u001b[0m\u001b[0;34m(\u001b[0m\u001b[0mf_xi\u001b[0m\u001b[0;34m[\u001b[0m\u001b[0;36m0\u001b[0m\u001b[0;34m]\u001b[0m\u001b[0;34m)\u001b[0m\u001b[0;34m\u001b[0m\u001b[0m\n\u001b[0;32m--> 116\u001b[0;31m                 \u001b[0mfk_hat\u001b[0m \u001b[0;34m=\u001b[0m \u001b[0mnp\u001b[0m\u001b[0;34m.\u001b[0m\u001b[0margmax\u001b[0m\u001b[0;34m(\u001b[0m\u001b[0mpred_y\u001b[0m\u001b[0;34m[\u001b[0m\u001b[0mrnd_idx\u001b[0m\u001b[0;34m]\u001b[0m\u001b[0;34m[\u001b[0m\u001b[0mj\u001b[0m\u001b[0;34m]\u001b[0m\u001b[0;34m)\u001b[0m\u001b[0;34m\u001b[0m\u001b[0m\n\u001b[0m\u001b[1;32m    117\u001b[0m \u001b[0;34m\u001b[0m\u001b[0m\n\u001b[1;32m    118\u001b[0m                 \u001b[0;32mif\u001b[0m \u001b[0mfk_i_hat\u001b[0m \u001b[0;34m==\u001b[0m \u001b[0mfk_hat\u001b[0m\u001b[0;34m:\u001b[0m\u001b[0;34m\u001b[0m\u001b[0m\n",
      "\u001b[0;31mKeyboardInterrupt\u001b[0m: "
     ]
    }
   ],
   "source": [
    "%time adv_test['UniPerturb'], adv_train['UniPerturb'] = atk_UniPerturb(x_train, x_test, y_train, y_test, classifier, baseline_file)\n",
    "np.save('adv_test_UniPerturb', adv_test['UniPerturb'])\n",
    "np.save('adv_train_UniPerturb', adv_train['UniPerturb'])"
   ]
  },
  {
   "cell_type": "markdown",
   "metadata": {},
   "source": [
    "## Benchmark Attacks against Defenses"
   ]
  },
  {
   "cell_type": "code",
   "execution_count": 1,
   "metadata": {
    "colab": {
     "base_uri": "https://localhost:8080/",
     "height": 8638
    },
    "colab_type": "code",
    "collapsed": true,
    "id": "RZo2d9e89M3b",
    "outputId": "4833344f-358e-47b5-e933-2609c1559071"
   },
   "outputs": [
    {
     "name": "stdout",
     "output_type": "stream",
     "text": [
      "Collecting adversarial-robustness-toolbox\n",
      "\u001b[?25l  Downloading https://files.pythonhosted.org/packages/31/94/aabfafdf4ce5b0995a8a49765255886a798f663b4ee0b63e24b7e2c33b69/Adversarial_Robustness_Toolbox-0.3.0-py3-none-any.whl (132kB)\n",
      "\u001b[K    100% |████████████████████████████████| 133kB 3.4MB/s \n",
      "\u001b[?25hRequirement already satisfied: setuptools in /usr/local/lib/python3.6/dist-packages (from adversarial-robustness-toolbox) (40.6.2)\n",
      "Requirement already satisfied: tensorflow in /usr/local/lib/python3.6/dist-packages (from adversarial-robustness-toolbox) (1.12.0)\n",
      "Requirement already satisfied: h5py in /usr/local/lib/python3.6/dist-packages (from adversarial-robustness-toolbox) (2.8.0)\n",
      "Requirement already satisfied: scipy in /usr/local/lib/python3.6/dist-packages (from adversarial-robustness-toolbox) (1.1.0)\n",
      "Requirement already satisfied: scikit-learn in /usr/local/lib/python3.6/dist-packages (from adversarial-robustness-toolbox) (0.19.2)\n",
      "Requirement already satisfied: keras in /usr/local/lib/python3.6/dist-packages (from adversarial-robustness-toolbox) (2.2.4)\n",
      "Requirement already satisfied: six in /usr/local/lib/python3.6/dist-packages (from adversarial-robustness-toolbox) (1.11.0)\n",
      "Requirement already satisfied: numpy in /usr/local/lib/python3.6/dist-packages (from adversarial-robustness-toolbox) (1.14.6)\n",
      "Requirement already satisfied: protobuf>=3.6.1 in /usr/local/lib/python3.6/dist-packages (from tensorflow->adversarial-robustness-toolbox) (3.6.1)\n",
      "Requirement already satisfied: tensorboard<1.13.0,>=1.12.0 in /usr/local/lib/python3.6/dist-packages (from tensorflow->adversarial-robustness-toolbox) (1.12.0)\n",
      "Requirement already satisfied: gast>=0.2.0 in /usr/local/lib/python3.6/dist-packages (from tensorflow->adversarial-robustness-toolbox) (0.2.0)\n",
      "Requirement already satisfied: keras-applications>=1.0.6 in /usr/local/lib/python3.6/dist-packages (from tensorflow->adversarial-robustness-toolbox) (1.0.6)\n",
      "Requirement already satisfied: termcolor>=1.1.0 in /usr/local/lib/python3.6/dist-packages (from tensorflow->adversarial-robustness-toolbox) (1.1.0)\n",
      "Requirement already satisfied: keras-preprocessing>=1.0.5 in /usr/local/lib/python3.6/dist-packages (from tensorflow->adversarial-robustness-toolbox) (1.0.5)\n",
      "Requirement already satisfied: grpcio>=1.8.6 in /usr/local/lib/python3.6/dist-packages (from tensorflow->adversarial-robustness-toolbox) (1.15.0)\n",
      "Requirement already satisfied: absl-py>=0.1.6 in /usr/local/lib/python3.6/dist-packages (from tensorflow->adversarial-robustness-toolbox) (0.6.1)\n",
      "Requirement already satisfied: astor>=0.6.0 in /usr/local/lib/python3.6/dist-packages (from tensorflow->adversarial-robustness-toolbox) (0.7.1)\n",
      "Requirement already satisfied: wheel>=0.26 in /usr/local/lib/python3.6/dist-packages (from tensorflow->adversarial-robustness-toolbox) (0.32.3)\n",
      "Requirement already satisfied: pyyaml in /usr/local/lib/python3.6/dist-packages (from keras->adversarial-robustness-toolbox) (3.13)\n",
      "Requirement already satisfied: werkzeug>=0.11.10 in /usr/local/lib/python3.6/dist-packages (from tensorboard<1.13.0,>=1.12.0->tensorflow->adversarial-robustness-toolbox) (0.14.1)\n",
      "Requirement already satisfied: markdown>=2.6.8 in /usr/local/lib/python3.6/dist-packages (from tensorboard<1.13.0,>=1.12.0->tensorflow->adversarial-robustness-toolbox) (3.0.1)\n",
      "Installing collected packages: adversarial-robustness-toolbox\n",
      "Successfully installed adversarial-robustness-toolbox-0.3.0\n"
     ]
    },
    {
     "name": "stderr",
     "output_type": "stream",
     "text": [
      "Using TensorFlow backend.\n"
     ]
    },
    {
     "name": "stdout",
     "output_type": "stream",
     "text": [
      "Downloading data from https://s3.amazonaws.com/img-datasets/mnist.npz\n",
      "11493376/11490434 [==============================] - 0s 0us/step\n",
      "Epoch 1/5\n",
      "1200/1200 [==============================] - 4s 3ms/step - loss: 0.0138 - acc: 0.9105\n",
      "Epoch 2/5\n",
      "1200/1200 [==============================] - 3s 3ms/step - loss: 0.0067 - acc: 0.9577\n",
      "Epoch 3/5\n",
      "1200/1200 [==============================] - 3s 3ms/step - loss: 0.0053 - acc: 0.9668\n",
      "Epoch 4/5\n",
      "1200/1200 [==============================] - 3s 3ms/step - loss: 0.0043 - acc: 0.9733\n",
      "Epoch 5/5\n",
      "1200/1200 [==============================] - 3s 3ms/step - loss: 0.0035 - acc: 0.9779\n",
      "After DeepFool Attack \n",
      "\n",
      "TRAIN: 98.08% \n",
      "\n",
      "TRAIN-ADVERSARY: 79.81% \n",
      "\n",
      "TEST: 96.81% \n",
      "\n",
      "TEST-ADVERSARY: 78.79% \n",
      "\n",
      "--- 21.44216686487198 minutes ---\n",
      "After BasicIterative Attack  \n",
      "\n",
      "TRAIN: 98.08% \n",
      "\n",
      "TRAIN-ADVERSARY: 13.01% \n",
      "\n",
      "TEST: 96.81% \n",
      "\n",
      "TEST-ADVERSARY: 14.00% \n",
      "\n",
      "--- 22.480172216892242 minutes ---\n",
      "After FastGradient Attack  \n",
      "\n",
      "TRAIN: 98.08% \n",
      "\n",
      "TRAIN-ADVERSARY: 13.30% \n",
      "\n",
      "TEST: 96.81% \n",
      "\n",
      "TEST-ADVERSARY: 14.54% \n",
      "\n",
      "--- 22.538637300332386 minutes ---\n",
      "After JSMA Attack  \n",
      "\n",
      "TRAIN: 98.08% \n",
      "\n",
      "TRAIN-ADVERSARY: 0.29% \n",
      "\n",
      "TEST: 96.81% \n",
      "\n",
      "TEST-ADVERSARY: 0.28% \n",
      "\n",
      "--- 33.094218877951306 minutes ---\n",
      "After CarliniL2 Attack  \n",
      "\n",
      "TRAIN: 98.08% \n",
      "\n",
      "TRAIN-ADVERSARY: 93.27% \n",
      "\n",
      "TEST: 96.81% \n",
      "\n",
      "TEST-ADVERSARY: 64.63% \n",
      "\n",
      "--- 37.38621571858724 minutes ---\n",
      "After NewtonFool Attack  \n",
      "\n",
      "TRAIN: 98.08% \n",
      "\n",
      "TRAIN-ADVERSARY: 82.02% \n",
      "\n",
      "TEST: 96.81% \n",
      "\n",
      "TEST-ADVERSARY: 82.84% \n",
      "\n",
      "--- 64.55357069174448 minutes ---\n",
      "After UniversalPerturbation NeutonFool Attack  \n",
      "\n",
      "TRAIN: 98.08% \n",
      "\n",
      "TRAIN-ADVERSARY: 9.04% \n",
      "\n",
      "TEST: 96.81% \n",
      "\n",
      "TEST-ADVERSARY: 10.32% \n",
      "\n",
      "--- 77.91890136798223 minutes ---\n",
      "============ Finish Creating Attacks ============\n",
      "Epoch 1/5\n",
      "1200/1200 [==============================] - 4s 3ms/step - loss: 0.0146 - acc: 0.9062\n",
      "Epoch 2/5\n",
      "1200/1200 [==============================] - 3s 3ms/step - loss: 0.0077 - acc: 0.9512\n",
      "Epoch 3/5\n",
      "1200/1200 [==============================] - 3s 3ms/step - loss: 0.0061 - acc: 0.9615\n",
      "Epoch 4/5\n",
      "1200/1200 [==============================] - 3s 3ms/step - loss: 0.0053 - acc: 0.9670\n",
      "Epoch 5/5\n",
      "1200/1200 [==============================] - 3s 3ms/step - loss: 0.0044 - acc: 0.9731\n",
      "After SpatialSmoothing Defense\n",
      "\n",
      "TRAIN: 96.79% \n",
      "\n",
      "TRAIN-ADVERSARY: 87.23% \n",
      "\n",
      "TEST: 95.69% \n",
      "\n",
      "TEST-ADVERSARY: 86.20% \n",
      "\n",
      "TRAIN: 96.79% \n",
      "\n",
      "TRAIN-ADVERSARY: 11.63% \n",
      "\n",
      "TEST: 95.69% \n",
      "\n",
      "TEST-ADVERSARY: 12.40% \n",
      "\n",
      "TRAIN: 96.79% \n",
      "\n",
      "TRAIN-ADVERSARY: 37.33% \n",
      "\n",
      "TEST: 95.69% \n",
      "\n",
      "TEST-ADVERSARY: 39.57% \n",
      "\n",
      "TRAIN: 96.79% \n",
      "\n",
      "TRAIN-ADVERSARY: 93.42% \n",
      "\n",
      "TEST: 95.69% \n",
      "\n",
      "TEST-ADVERSARY: 91.82% \n",
      "\n",
      "TRAIN: 96.79% \n",
      "\n",
      "TRAIN-ADVERSARY: 93.29% \n",
      "\n",
      "TEST: 95.69% \n",
      "\n",
      "TEST-ADVERSARY: 73.70% \n",
      "\n",
      "TRAIN: 96.79% \n",
      "\n",
      "TRAIN-ADVERSARY: 89.47% \n",
      "\n",
      "TEST: 95.69% \n",
      "\n",
      "TEST-ADVERSARY: 89.05% \n",
      "\n",
      "TRAIN: 96.79% \n",
      "\n",
      "TRAIN-ADVERSARY: 13.64% \n",
      "\n",
      "TEST: 95.69% \n",
      "\n",
      "TEST-ADVERSARY: 10.32% \n",
      "\n",
      "After AdversarialTraining Defense\n",
      "\n",
      "Epoch 1/5\n",
      "2400/2400 [==============================] - 7s 3ms/step - loss: 0.0102 - acc: 0.9334\n",
      "Epoch 2/5\n",
      "2400/2400 [==============================] - 7s 3ms/step - loss: 0.0043 - acc: 0.9724\n",
      "Epoch 3/5\n",
      "2400/2400 [==============================] - 7s 3ms/step - loss: 0.0032 - acc: 0.9802\n",
      "Epoch 4/5\n",
      "2400/2400 [==============================] - 7s 3ms/step - loss: 0.0026 - acc: 0.9839\n",
      "Epoch 5/5\n",
      "2400/2400 [==============================] - 8s 3ms/step - loss: 0.0022 - acc: 0.9867\n",
      "TRAIN: 98.60% \n",
      "\n",
      "TRAIN-ADVERSARY: 98.81% \n",
      "\n",
      "TEST: 97.25% \n",
      "\n",
      "TEST-ADVERSARY: 97.52% \n",
      "\n",
      "Epoch 1/5\n",
      "2400/2400 [==============================] - 7s 3ms/step - loss: 0.0096 - acc: 0.9402\n",
      "Epoch 2/5\n",
      "2400/2400 [==============================] - 7s 3ms/step - loss: 0.0053 - acc: 0.9689\n",
      "Epoch 3/5\n",
      "2400/2400 [==============================] - 7s 3ms/step - loss: 0.0045 - acc: 0.9736\n",
      "Epoch 4/5\n",
      "2400/2400 [==============================] - 7s 3ms/step - loss: 0.0041 - acc: 0.9764\n",
      "Epoch 5/5\n",
      "2400/2400 [==============================] - 7s 3ms/step - loss: 0.0039 - acc: 0.9780\n",
      "TRAIN: 98.01% \n",
      "\n",
      "TRAIN-ADVERSARY: 98.05% \n",
      "\n",
      "TEST: 97.13% \n",
      "\n",
      "TEST-ADVERSARY: 96.76% \n",
      "\n",
      "Epoch 1/5\n",
      "2400/2400 [==============================] - 8s 3ms/step - loss: 0.0094 - acc: 0.9404\n",
      "Epoch 2/5\n",
      "2400/2400 [==============================] - 7s 3ms/step - loss: 0.0048 - acc: 0.9704\n",
      "Epoch 3/5\n",
      "2400/2400 [==============================] - 7s 3ms/step - loss: 0.0038 - acc: 0.9766\n",
      "Epoch 4/5\n",
      "2400/2400 [==============================] - 7s 3ms/step - loss: 0.0031 - acc: 0.9809\n",
      "Epoch 5/5\n",
      "2400/2400 [==============================] - 7s 3ms/step - loss: 0.0027 - acc: 0.9836\n",
      "TRAIN: 98.28% \n",
      "\n",
      "TRAIN-ADVERSARY: 98.70% \n",
      "\n",
      "TEST: 96.90% \n",
      "\n",
      "TEST-ADVERSARY: 97.12% \n",
      "\n",
      "Epoch 1/5\n",
      "2400/2400 [==============================] - 8s 3ms/step - loss: 0.0091 - acc: 0.9432\n",
      "Epoch 2/5\n",
      "2400/2400 [==============================] - 7s 3ms/step - loss: 0.0048 - acc: 0.9705\n",
      "Epoch 3/5\n",
      "2400/2400 [==============================] - 7s 3ms/step - loss: 0.0037 - acc: 0.9773\n",
      "Epoch 4/5\n",
      "2400/2400 [==============================] - 7s 3ms/step - loss: 0.0030 - acc: 0.9812\n",
      "Epoch 5/5\n",
      "2400/2400 [==============================] - 7s 3ms/step - loss: 0.0027 - acc: 0.9835\n",
      "TRAIN: 98.29% \n",
      "\n",
      "TRAIN-ADVERSARY: 98.80% \n",
      "\n",
      "TEST: 97.03% \n",
      "\n",
      "TEST-ADVERSARY: 86.34% \n",
      "\n",
      "Epoch 1/5\n",
      "2400/2400 [==============================] - 8s 3ms/step - loss: 0.0113 - acc: 0.9263\n",
      "Epoch 2/5\n",
      "2400/2400 [==============================] - 7s 3ms/step - loss: 0.0057 - acc: 0.9641\n",
      "Epoch 3/5\n",
      "2400/2400 [==============================] - 7s 3ms/step - loss: 0.0043 - acc: 0.9733\n",
      "Epoch 4/5\n",
      "2400/2400 [==============================] - 7s 3ms/step - loss: 0.0035 - acc: 0.9787\n",
      "Epoch 5/5\n",
      "2400/2400 [==============================] - 8s 3ms/step - loss: 0.0028 - acc: 0.9829\n",
      "TRAIN: 98.43% \n",
      "\n",
      "TRAIN-ADVERSARY: 97.95% \n",
      "\n",
      "TEST: 97.29% \n",
      "\n",
      "TEST-ADVERSARY: 92.42% \n",
      "\n",
      "Epoch 1/5\n",
      "2400/2400 [==============================] - 9s 4ms/step - loss: 0.0099 - acc: 0.9352\n",
      "Epoch 2/5\n",
      "2400/2400 [==============================] - 8s 3ms/step - loss: 0.0044 - acc: 0.9724\n",
      "Epoch 3/5\n",
      "2400/2400 [==============================] - 7s 3ms/step - loss: 0.0032 - acc: 0.9796\n",
      "Epoch 4/5\n",
      "2400/2400 [==============================] - 7s 3ms/step - loss: 0.0028 - acc: 0.9828\n",
      "Epoch 5/5\n",
      "2400/2400 [==============================] - 7s 3ms/step - loss: 0.0022 - acc: 0.9862\n",
      "TRAIN: 98.77% \n",
      "\n",
      "TRAIN-ADVERSARY: 99.00% \n",
      "\n",
      "TEST: 97.07% \n",
      "\n",
      "TEST-ADVERSARY: 97.32% \n",
      "\n",
      "Epoch 1/5\n",
      "2400/2400 [==============================] - 8s 3ms/step - loss: 0.0243 - acc: 0.8296\n",
      "Epoch 2/5\n",
      "2400/2400 [==============================] - 8s 3ms/step - loss: 0.0148 - acc: 0.9000\n",
      "Epoch 3/5\n",
      "2400/2400 [==============================] - 7s 3ms/step - loss: 0.0120 - acc: 0.9199\n",
      "Epoch 4/5\n",
      "2400/2400 [==============================] - 8s 3ms/step - loss: 0.0109 - acc: 0.9277\n",
      "Epoch 5/5\n",
      "2400/2400 [==============================] - 8s 3ms/step - loss: 0.0098 - acc: 0.9354\n",
      "TRAIN: 97.85% \n",
      "\n",
      "TRAIN-ADVERSARY: 89.59% \n",
      "\n",
      "TEST: 96.84% \n",
      "\n",
      "TEST-ADVERSARY: 11.61% \n",
      "\n",
      "Epoch 1/5\n",
      "1200/1200 [==============================] - 5s 4ms/step - loss: 0.0137 - acc: 0.9117\n",
      "Epoch 2/5\n",
      "1200/1200 [==============================] - 4s 3ms/step - loss: 0.0063 - acc: 0.9604\n",
      "Epoch 3/5\n",
      "1200/1200 [==============================] - 4s 3ms/step - loss: 0.0048 - acc: 0.9697\n",
      "Epoch 4/5\n",
      "1200/1200 [==============================] - 4s 3ms/step - loss: 0.0038 - acc: 0.9758\n",
      "Epoch 5/5\n",
      "1200/1200 [==============================] - 4s 3ms/step - loss: 0.0032 - acc: 0.9800\n",
      "After FeatureSqueezing Defense\n",
      "\n",
      "TRAIN: 98.11% \n",
      "\n",
      "TRAIN-ADVERSARY: 97.62% \n",
      "\n",
      "TEST: 96.98% \n",
      "\n",
      "TEST-ADVERSARY: 96.49% \n",
      "\n",
      "TRAIN: 98.11% \n",
      "\n",
      "TRAIN-ADVERSARY: 12.94% \n",
      "\n",
      "TEST: 96.98% \n",
      "\n",
      "TEST-ADVERSARY: 13.77% \n",
      "\n",
      "TRAIN: 98.11% \n",
      "\n",
      "TRAIN-ADVERSARY: 95.39% \n",
      "\n",
      "TEST: 96.98% \n",
      "\n",
      "TEST-ADVERSARY: 94.79% \n",
      "\n",
      "TRAIN: 98.11% \n",
      "\n",
      "TRAIN-ADVERSARY: 75.14% \n",
      "\n",
      "TEST: 96.98% \n",
      "\n",
      "TEST-ADVERSARY: 77.77% \n",
      "\n",
      "TRAIN: 98.11% \n",
      "\n",
      "TRAIN-ADVERSARY: 94.52% \n",
      "\n",
      "TEST: 96.98% \n",
      "\n",
      "TEST-ADVERSARY: 72.52% \n",
      "\n",
      "TRAIN: 98.11% \n",
      "\n",
      "TRAIN-ADVERSARY: 97.85% \n",
      "\n",
      "TEST: 96.98% \n",
      "\n",
      "TEST-ADVERSARY: 96.68% \n",
      "\n",
      "Epoch 1/5\n",
      "2400/2400 [==============================] - 9s 4ms/step - loss: 0.0184 - acc: 0.8738\n",
      "Epoch 2/5\n",
      "2400/2400 [==============================] - 8s 3ms/step - loss: 0.0100 - acc: 0.9347\n",
      "Epoch 3/5\n",
      "2400/2400 [==============================] - 8s 3ms/step - loss: 0.0078 - acc: 0.9506\n",
      "Epoch 4/5\n",
      "2400/2400 [==============================] - 9s 4ms/step - loss: 0.0065 - acc: 0.9588\n",
      "Epoch 5/5\n",
      "2400/2400 [==============================] - 8s 3ms/step - loss: 0.0057 - acc: 0.9645\n",
      "After GaussianAugmentation Defense\n",
      "\n",
      "TRAIN: 96.65% \n",
      "\n",
      "TRAIN-ADVERSARY: 96.78% \n",
      "\n",
      "TEST: 92.69% \n",
      "\n",
      "TEST-ADVERSARY: 96.14% \n",
      "\n",
      "TRAIN: 96.65% \n",
      "\n",
      "TRAIN-ADVERSARY: 12.93% \n",
      "\n",
      "TEST: 92.69% \n",
      "\n",
      "TEST-ADVERSARY: 13.91% \n",
      "\n",
      "TRAIN: 96.65% \n",
      "\n",
      "TRAIN-ADVERSARY: 88.31% \n",
      "\n",
      "TEST: 92.69% \n",
      "\n",
      "TEST-ADVERSARY: 88.74% \n",
      "\n",
      "TRAIN: 96.65% \n",
      "\n",
      "TRAIN-ADVERSARY: 95.25% \n",
      "\n",
      "TEST: 92.69% \n",
      "\n",
      "TEST-ADVERSARY: 94.22% \n",
      "\n",
      "TRAIN: 96.65% \n",
      "\n",
      "TRAIN-ADVERSARY: 95.86% \n",
      "\n",
      "TEST: 92.69% \n",
      "\n",
      "TEST-ADVERSARY: 83.83% \n",
      "\n",
      "TRAIN: 96.65% \n",
      "\n",
      "TRAIN-ADVERSARY: 96.94% \n",
      "\n",
      "TEST: 92.69% \n",
      "\n",
      "TEST-ADVERSARY: 96.36% \n",
      "\n",
      "TRAIN: 96.65% \n",
      "\n",
      "TRAIN-ADVERSARY: 9.88% \n",
      "\n",
      "TEST: 92.69% \n",
      "\n",
      "TEST-ADVERSARY: 10.60% \n",
      "\n",
      "Epoch 1/5\n",
      "1200/1200 [==============================] - 5s 4ms/step - loss: 0.0086 - acc: 0.9246\n",
      "Epoch 2/5\n",
      "1200/1200 [==============================] - 4s 3ms/step - loss: 0.0046 - acc: 0.9688\n",
      "Epoch 3/5\n",
      "1200/1200 [==============================] - 4s 3ms/step - loss: 0.0036 - acc: 0.9784\n",
      "Epoch 4/5\n",
      "1200/1200 [==============================] - 4s 3ms/step - loss: 0.0031 - acc: 0.9823\n",
      "Epoch 5/5\n",
      "1200/1200 [==============================] - 4s 3ms/step - loss: 0.0027 - acc: 0.9854\n",
      "After LabelSmoothing Defense\n",
      "\n",
      "TRAIN: 98.54% \n",
      "\n",
      "TRAIN-ADVERSARY: 93.75% \n",
      "\n",
      "TEST: 97.43% \n",
      "\n",
      "TEST-ADVERSARY: 92.30% \n",
      "\n",
      "TRAIN: 98.54% \n",
      "\n",
      "TRAIN-ADVERSARY: 12.05% \n",
      "\n",
      "TEST: 97.43% \n",
      "\n",
      "TEST-ADVERSARY: 13.00% \n",
      "\n",
      "TRAIN: 98.54% \n",
      "\n",
      "TRAIN-ADVERSARY: 44.81% \n",
      "\n",
      "TEST: 97.43% \n",
      "\n",
      "TEST-ADVERSARY: 45.93% \n",
      "\n",
      "TRAIN: 98.54% \n",
      "\n",
      "TRAIN-ADVERSARY: 80.54% \n",
      "\n",
      "TEST: 97.43% \n",
      "\n",
      "TEST-ADVERSARY: 80.32% \n",
      "\n",
      "TRAIN: 98.54% \n",
      "\n",
      "TRAIN-ADVERSARY: 95.60% \n",
      "\n",
      "TEST: 97.43% \n",
      "\n",
      "TEST-ADVERSARY: 75.97% \n",
      "\n",
      "TRAIN: 98.54% \n",
      "\n",
      "TRAIN-ADVERSARY: 96.31% \n",
      "\n",
      "TEST: 97.43% \n",
      "\n",
      "TEST-ADVERSARY: 94.94% \n",
      "\n",
      "TRAIN: 98.54% \n",
      "\n",
      "TRAIN-ADVERSARY: 9.04% \n",
      "\n",
      "TEST: 97.43% \n",
      "\n",
      "TEST-ADVERSARY: 18.16% \n",
      "\n",
      "============ Finish Utilizing Defenses ============\n",
      "============ Finish Program ============\n",
      "--- 85.63233769734701 minutes ---\n"
     ]
    }
   ],
   "source": [
    "attack_list = [\"DeepFool\", \"BasicIterative\", \"FastGradient\", \"JSMA\", \"CarliniL2\", \"NewtonFool\", \"UniPerturb\"]\n",
    "def_SpatialSmoothing(x_train, x_test, y_train, y_test, x_train_adv_all, x_test_adv_all, min_, max_, attack_list, defense_1_file)\n",
    "def_AdversarialTraining(x_train, x_test, y_train, y_test, x_train_adv_all, x_test_adv_all, min_, max_, attack_list, defense_2_file)\n",
    "def_FeatureSqueezing(x_train, x_test, y_train, y_test, x_train_adv_all, x_test_adv_all, min_, max_, attack_list, defense_3_file)\n",
    "def_GaussianAugmentation(x_raw, x_raw_test, y_raw, y_raw_test, x_train_adv_all, x_test_adv_all, y_train, y_test, min_, max_, attack_list, defense_4_file)\n",
    "def_LabelSmoothing(x_train, x_test, y_train, y_test, x_train_adv_all, x_test_adv_all, min_, max_, attack_list, defense_5_file)"
   ]
  }
 ],
 "metadata": {
  "colab": {
   "collapsed_sections": [],
   "name": "function_v4.ipynb",
   "provenance": [],
   "version": "0.3.2"
  },
  "kernelspec": {
   "display_name": "Python 3",
   "language": "python",
   "name": "python3"
  },
  "language_info": {
   "codemirror_mode": {
    "name": "ipython",
    "version": 3
   },
   "file_extension": ".py",
   "mimetype": "text/x-python",
   "name": "python",
   "nbconvert_exporter": "python",
   "pygments_lexer": "ipython3",
   "version": "3.6.5"
  }
 },
 "nbformat": 4,
 "nbformat_minor": 1
}
